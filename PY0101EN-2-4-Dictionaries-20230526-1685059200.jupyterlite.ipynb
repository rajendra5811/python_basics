{
  "cells": [
    {
      "cell_type": "markdown",
      "metadata": {
        "id": "b1ed4dad-3a99-4444-b084-bba07e094474"
      },
      "source": [
        "<center>\n",
        "    <img src=\"https://cf-courses-data.s3.us.cloud-object-storage.appdomain.cloud/IBMDeveloperSkillsNetwork-PY0101EN-SkillsNetwork/IDSNlogo.png\" width=\"300\" alt=\"cognitiveclass.ai logo\">\n",
        "</center>\n",
        "\n",
        "# Dictionaries in Python\n",
        "\n",
        "Estimated time needed: **30** minutes\n",
        "\n",
        "## Objectives\n",
        "\n",
        "After completing this lab you will be able to:\n",
        "\n",
        "*  Create a Dictionary and perform operations on the Dictionary\n"
      ]
    },
    {
      "cell_type": "markdown",
      "metadata": {
        "id": "7069cb12-868f-405a-9d78-21c7879372e1"
      },
      "source": [
        "<h2>Table of Contents</h2>\n",
        "<div class=\"alert alert-block alert-info\" style=\"margin-top: 20px\">\n",
        "    <ul>\n",
        "        <li>\n",
        "            <a href=\"#dic\">Dictionaries</a>\n",
        "            <ul>\n",
        "                <li><a href=\"#content\">What are Dictionaries?</a></li>\n",
        "                <li><a href=\"#keys\">Keys</a></li>\n",
        "            </ul>\n",
        "        </li>\n",
        "        <li>\n",
        "            <a href=\"#quiz\">Quiz on Dictionaries</a>\n",
        "        </li>\n",
        "        <li>\n",
        "            <a href=\"#Scenario\">Scenario</a>\n",
        "        </li>\n",
        "    </ul>\n",
        "\n",
        "</div>\n",
        "\n",
        "<hr>\n"
      ]
    },
    {
      "cell_type": "markdown",
      "metadata": {
        "id": "72937fb4-8933-4d7a-8c16-63d2b1014948"
      },
      "source": [
        "<a id=\"dic\"></a>\n",
        "## Dictionaries\n"
      ]
    },
    {
      "cell_type": "markdown",
      "metadata": {
        "id": "24762513-3b6d-483a-b781-34752a0e2279"
      },
      "source": [
        "<a id=\"content\"></a>\n",
        "## What are Dictionaries?\n"
      ]
    },
    {
      "cell_type": "markdown",
      "metadata": {
        "id": "d99f3848-d1dd-45e7-bdd3-35efef50c581"
      },
      "source": [
        "A dictionary consists of keys and values. It is helpful to compare a dictionary to a list. Instead of being indexed numerically like a list, dictionaries have keys. These keys are the keys that are used to access values within a dictionary.   \n",
        "\n",
        "\n",
        "The best example of a dictionary can be accessing person's detais using the **social security number**.   \n",
        "Here the social security number which is a unique number will be the **key** and the details of the people will be the **values** associated with it.\n"
      ]
    },
    {
      "cell_type": "markdown",
      "metadata": {
        "id": "e01f4234-0e0b-475d-8eb5-94bae122040b"
      },
      "source": [
        "<img src=\"https://cf-courses-data.s3.us.cloud-object-storage.appdomain.cloud/54cVKVMZaWEw7wSCDL8NjQ/DictList1.png\" width=\"650\">\n"
      ]
    },
    {
      "cell_type": "markdown",
      "metadata": {
        "id": "eddfd010-85a5-4387-9285-41fdc8a99a63"
      },
      "source": [
        "### Create a Dictionary and access the elements\n"
      ]
    },
    {
      "cell_type": "markdown",
      "metadata": {
        "id": "ac2c846a-16fc-4c02-8e89-197a4843ea59"
      },
      "source": [
        "An example of a Dictionary <code>Dict</code>:\n",
        "Here we are creating a dictionary named **Dict** with he following details\n",
        "\n",
        "* Keys are **key1, key2, key3, key4, key5, (0,1)**.\n",
        "* Values are {1,2,[3,3,3],(4,4,4),5,6} corresponding to the keys\n"
      ]
    },
    {
      "cell_type": "code",
      "metadata": {
        "id": "cf8bfa5b-c535-4bf0-a7ba-f8b07d9e3a8e",
        "outputId": "5f5a9156-c73b-409e-d165-f5c9a8408f38",
        "colab": {
          "base_uri": "https://localhost:8080/"
        }
      },
      "outputs": [
        {
          "output_type": "execute_result",
          "data": {
            "text/plain": [
              "{'key1': 1,\n",
              " 'key2': '2',\n",
              " 'key3': [3, 3, 3],\n",
              " 'key4': (4, 4, 4),\n",
              " 'key5': 5,\n",
              " (0, 1): 6}"
            ]
          },
          "metadata": {},
          "execution_count": 4
        }
      ],
      "source": [
        "# Create the dictionary\n",
        "\n",
        "Dict = {\"key1\": 1, \"key2\": \"2\", \"key3\": [3, 3, 3], \"key4\": (4, 4, 4), ('key5'): 5, (0, 1): 6}\n",
        "Dict"
      ],
      "execution_count": 4
    },
    {
      "cell_type": "markdown",
      "metadata": {
        "id": "8bf92f65-cca5-40b0-9064-9e4efbec8134"
      },
      "source": [
        "The keys can be strings:\n"
      ]
    },
    {
      "cell_type": "code",
      "metadata": {
        "id": "ab82e19f-3640-4247-b347-dd1ca36cd5bd",
        "outputId": "88816d35-bd68-4571-ef3a-38d3b7711299",
        "colab": {
          "base_uri": "https://localhost:8080/"
        }
      },
      "outputs": [
        {
          "output_type": "execute_result",
          "data": {
            "text/plain": [
              "1"
            ]
          },
          "metadata": {},
          "execution_count": 5
        }
      ],
      "source": [
        "# Access to the value by the key\n",
        "\n",
        "Dict[\"key1\"]"
      ],
      "execution_count": 5
    },
    {
      "cell_type": "markdown",
      "metadata": {
        "id": "285324bb-1ca9-4acf-ac59-457a012a6825"
      },
      "source": [
        "Keys can also be any immutable object such as a tuple:\n"
      ]
    },
    {
      "cell_type": "code",
      "metadata": {
        "id": "521ed553-aef2-4960-8571-49987a798398",
        "outputId": "cf719d26-e4f7-4098-e249-18292309f7a1",
        "colab": {
          "base_uri": "https://localhost:8080/"
        }
      },
      "outputs": [
        {
          "output_type": "execute_result",
          "data": {
            "text/plain": [
              "6"
            ]
          },
          "metadata": {},
          "execution_count": 6
        }
      ],
      "source": [
        "# Access to the value by the key\n",
        "\n",
        "Dict[(0, 1)]"
      ],
      "execution_count": 6
    },
    {
      "cell_type": "markdown",
      "metadata": {
        "id": "dd4bf203-02a8-4987-acc9-c40e97f0546f"
      },
      "source": [
        "Each key is separated from its value by a colon \"<code>:</code>\".  Commas separate the items, and the whole dictionary is enclosed in curly braces. An empty dictionary without any items is written with just two curly braces, like this  \"<code>{}</code>\".\n"
      ]
    },
    {
      "cell_type": "code",
      "metadata": {
        "id": "6f75dc5c-9a7e-4b45-95a3-7dfa7052bffe",
        "outputId": "47756a20-4978-4157-bca6-f22f735a4a76",
        "colab": {
          "base_uri": "https://localhost:8080/"
        }
      },
      "outputs": [
        {
          "output_type": "execute_result",
          "data": {
            "text/plain": [
              "{'Thriller': '1982',\n",
              " 'Back in Black': '1980',\n",
              " 'The Dark Side of the Moon': '1973',\n",
              " 'The Bodyguard': '1992',\n",
              " 'Bat Out of Hell': '1977',\n",
              " 'Their Greatest Hits (1971-1975)': '1976',\n",
              " 'Saturday Night Fever': '1977',\n",
              " 'Rumours': '1977'}"
            ]
          },
          "metadata": {},
          "execution_count": 7
        }
      ],
      "source": [
        "# Create a sample dictionary\n",
        "\n",
        "release_year_dict = {\"Thriller\": \"1982\", \"Back in Black\": \"1980\", \\\n",
        "                    \"The Dark Side of the Moon\": \"1973\", \"The Bodyguard\": \"1992\", \\\n",
        "                    \"Bat Out of Hell\": \"1977\", \"Their Greatest Hits (1971-1975)\": \"1976\", \\\n",
        "                    \"Saturday Night Fever\": \"1977\", \"Rumours\": \"1977\"}\n",
        "release_year_dict"
      ],
      "execution_count": 7
    },
    {
      "cell_type": "markdown",
      "metadata": {
        "id": "748fa422-c4c3-49ec-acfc-66d3a8f61432"
      },
      "source": [
        "In summary, like a list, a dictionary holds a sequence of elements. Each element is represented by a key and its corresponding value. Dictionaries are created with two curly braces containing keys and values separated by a colon. For every key, there can only be one single value, however,  multiple keys can hold the same value. Keys can only be strings, numbers, or tuples, but values can be any data type.\n"
      ]
    },
    {
      "cell_type": "markdown",
      "metadata": {
        "id": "a5503ea7-c9d2-4362-8227-f40623a62d3f"
      },
      "source": [
        "It is helpful to visualize the dictionary as a table, as in the following image. The first column represents the keys, the second column represents the values.\n"
      ]
    },
    {
      "cell_type": "markdown",
      "metadata": {
        "id": "e3e5b8f5-eedc-489c-a0dd-30a27369af73"
      },
      "source": [
        "<img src=\"https://cf-courses-data.s3.us.cloud-object-storage.appdomain.cloud/IBMDeveloperSkillsNetwork-PY0101EN-SkillsNetwork/labs/Module%202/images/DictsStructure.png\" width=\"650\">\n"
      ]
    },
    {
      "cell_type": "markdown",
      "metadata": {
        "id": "059651ba-bce3-461c-aeee-1f96e91b2f2b"
      },
      "source": [
        "<a id=\"keys\"></a>\n",
        "## Keys\n"
      ]
    },
    {
      "cell_type": "markdown",
      "metadata": {
        "id": "05a098e8-b6d3-45a9-8b9d-1ca5f0a72f2f"
      },
      "source": [
        "You can retrieve the values based on the names:\n"
      ]
    },
    {
      "cell_type": "code",
      "metadata": {
        "id": "5060936f-9333-443b-a04d-f4d84e0d6bcd",
        "outputId": "f8ec0525-9082-4d41-a21f-ad875f18008f",
        "colab": {
          "base_uri": "https://localhost:8080/",
          "height": 36
        }
      },
      "outputs": [
        {
          "output_type": "execute_result",
          "data": {
            "text/plain": [
              "'1982'"
            ],
            "application/vnd.google.colaboratory.intrinsic+json": {
              "type": "string"
            }
          },
          "metadata": {},
          "execution_count": 8
        }
      ],
      "source": [
        "# Get value by keys\n",
        "\n",
        "release_year_dict['Thriller']"
      ],
      "execution_count": 8
    },
    {
      "cell_type": "markdown",
      "metadata": {
        "id": "e4b108ba-691b-418e-afba-3ce3304ac1ef"
      },
      "source": [
        "This corresponds to:\n"
      ]
    },
    {
      "cell_type": "markdown",
      "metadata": {
        "id": "b9264b4d-36fa-45bc-8d00-47328d763dba"
      },
      "source": [
        "<img src=\"https://cf-courses-data.s3.us.cloud-object-storage.appdomain.cloud/IBMDeveloperSkillsNetwork-PY0101EN-SkillsNetwork/labs/Module%202/images/DictsKeyOne.png\" width=\"500\">\n"
      ]
    },
    {
      "cell_type": "markdown",
      "metadata": {
        "id": "9934fa2c-6f30-47bf-aa08-f2fda81bd962"
      },
      "source": [
        "Similarly for <b>The Bodyguard</b>\n"
      ]
    },
    {
      "cell_type": "code",
      "metadata": {
        "id": "7b371e4e-d795-480e-bbc0-3567fffd30c2",
        "outputId": "0a597eee-b43c-4a5d-fb4d-be48a73c3759",
        "colab": {
          "base_uri": "https://localhost:8080/",
          "height": 36
        }
      },
      "outputs": [
        {
          "output_type": "execute_result",
          "data": {
            "text/plain": [
              "'1992'"
            ],
            "application/vnd.google.colaboratory.intrinsic+json": {
              "type": "string"
            }
          },
          "metadata": {},
          "execution_count": 9
        }
      ],
      "source": [
        "# Get value by key\n",
        "\n",
        "release_year_dict['The Bodyguard']"
      ],
      "execution_count": 9
    },
    {
      "cell_type": "markdown",
      "metadata": {
        "id": "56fa81bc-4cee-46c3-8144-eb1028e8e0fb"
      },
      "source": [
        "<img src=\"https://cf-courses-data.s3.us.cloud-object-storage.appdomain.cloud/IBMDeveloperSkillsNetwork-PY0101EN-SkillsNetwork/labs/Module%202/images/DictsKeyTwo.png\" width=\"500\">\n"
      ]
    },
    {
      "cell_type": "markdown",
      "metadata": {
        "id": "5e8f07e4-c47f-40f2-8e0d-321cfd153e93"
      },
      "source": [
        "Now let us retrieve the keys of the dictionary using the method <code>keys()</code>:\n"
      ]
    },
    {
      "cell_type": "code",
      "metadata": {
        "id": "6f1d9861-2dd2-4d4c-8ceb-9e0f6ac3a3d8",
        "outputId": "18ac3be4-1cad-46cd-da7c-b9dc7522374b",
        "colab": {
          "base_uri": "https://localhost:8080/"
        }
      },
      "outputs": [
        {
          "output_type": "execute_result",
          "data": {
            "text/plain": [
              "dict_keys(['Thriller', 'Back in Black', 'The Dark Side of the Moon', 'The Bodyguard', 'Bat Out of Hell', 'Their Greatest Hits (1971-1975)', 'Saturday Night Fever', 'Rumours'])"
            ]
          },
          "metadata": {},
          "execution_count": 10
        }
      ],
      "source": [
        "# Get all the keys in dictionary\n",
        "\n",
        "release_year_dict.keys()"
      ],
      "execution_count": 10
    },
    {
      "cell_type": "markdown",
      "metadata": {
        "id": "44f05af2-e324-4837-842b-bfad1b35f128"
      },
      "source": [
        "You can retrieve the values using the method  <code>values()</code>:\n"
      ]
    },
    {
      "cell_type": "code",
      "metadata": {
        "id": "4928ad3e-b536-440a-ab28-23e7aef49e6c",
        "outputId": "7df92c7e-edee-468a-a213-70c3f3e66308",
        "colab": {
          "base_uri": "https://localhost:8080/"
        }
      },
      "outputs": [
        {
          "output_type": "execute_result",
          "data": {
            "text/plain": [
              "dict_values(['1982', '1980', '1973', '1992', '1977', '1976', '1977', '1977'])"
            ]
          },
          "metadata": {},
          "execution_count": 11
        }
      ],
      "source": [
        "# Get all the values in dictionary\n",
        "\n",
        "release_year_dict.values()"
      ],
      "execution_count": 11
    },
    {
      "cell_type": "markdown",
      "metadata": {
        "id": "40bab3ef-3118-4ef3-a782-c7fd22c1b9af"
      },
      "source": [
        "We can add an entry:\n"
      ]
    },
    {
      "cell_type": "code",
      "metadata": {
        "id": "06d00ba9-f416-45c2-baec-ecd7b51537aa",
        "outputId": "8a4c5119-69cf-4a20-d835-d1d30d0e7403",
        "colab": {
          "base_uri": "https://localhost:8080/"
        }
      },
      "outputs": [
        {
          "output_type": "execute_result",
          "data": {
            "text/plain": [
              "{'Thriller': '1982',\n",
              " 'Back in Black': '1980',\n",
              " 'The Dark Side of the Moon': '1973',\n",
              " 'The Bodyguard': '1992',\n",
              " 'Bat Out of Hell': '1977',\n",
              " 'Their Greatest Hits (1971-1975)': '1976',\n",
              " 'Saturday Night Fever': '1977',\n",
              " 'Rumours': '1977',\n",
              " 'Graduation': '2007'}"
            ]
          },
          "metadata": {},
          "execution_count": 12
        }
      ],
      "source": [
        "# Append value with key into dictionary\n",
        "\n",
        "release_year_dict['Graduation'] = '2007'\n",
        "release_year_dict"
      ],
      "execution_count": 12
    },
    {
      "cell_type": "markdown",
      "metadata": {
        "id": "3cae91a2-8fea-4d31-a634-56e40261e637"
      },
      "source": [
        "We can delete an entry:\n"
      ]
    },
    {
      "cell_type": "code",
      "metadata": {
        "id": "ebf552e9-eb54-42da-8782-a1e9dffbfd67",
        "outputId": "2816842b-f4e4-4e7b-e881-aeaa8acc412b",
        "colab": {
          "base_uri": "https://localhost:8080/"
        }
      },
      "outputs": [
        {
          "output_type": "execute_result",
          "data": {
            "text/plain": [
              "{'Back in Black': '1980',\n",
              " 'The Dark Side of the Moon': '1973',\n",
              " 'The Bodyguard': '1992',\n",
              " 'Bat Out of Hell': '1977',\n",
              " 'Their Greatest Hits (1971-1975)': '1976',\n",
              " 'Saturday Night Fever': '1977',\n",
              " 'Rumours': '1977'}"
            ]
          },
          "metadata": {},
          "execution_count": 13
        }
      ],
      "source": [
        "# Delete entries by key\n",
        "\n",
        "del(release_year_dict['Thriller'])\n",
        "del(release_year_dict['Graduation'])\n",
        "release_year_dict"
      ],
      "execution_count": 13
    },
    {
      "cell_type": "markdown",
      "metadata": {
        "id": "2cd338a0-03ba-4010-8046-4c63ba663683"
      },
      "source": [
        "We can verify if an element is in the dictionary:\n"
      ]
    },
    {
      "cell_type": "code",
      "metadata": {
        "id": "c0f528a7-444c-4a59-afdb-3bdcf2225a1b",
        "outputId": "49b13332-72c6-4155-fb30-1880a3e9ec7c",
        "colab": {
          "base_uri": "https://localhost:8080/"
        }
      },
      "outputs": [
        {
          "output_type": "execute_result",
          "data": {
            "text/plain": [
              "True"
            ]
          },
          "metadata": {},
          "execution_count": 14
        }
      ],
      "source": [
        "# Verify the key is in the dictionary\n",
        "\n",
        "'The Bodyguard' in release_year_dict"
      ],
      "execution_count": 14
    },
    {
      "cell_type": "markdown",
      "metadata": {
        "id": "1a62d652-23ab-4134-ac90-bf2043a08a6a"
      },
      "source": [
        "<hr>\n"
      ]
    },
    {
      "cell_type": "markdown",
      "metadata": {
        "id": "875d42bb-5ce0-48f1-8e29-0b6f9beac9a0"
      },
      "source": [
        "<a id=\"quiz\"></a>\n",
        "## Quiz on Dictionaries\n"
      ]
    },
    {
      "cell_type": "markdown",
      "metadata": {
        "id": "1c16b008-c028-4570-827e-a560b5d4335d"
      },
      "source": [
        "<b>You will need this dictionary for the next two questions:</b>\n"
      ]
    },
    {
      "cell_type": "code",
      "metadata": {
        "id": "d9635042-abf7-4841-abaf-f74888cfb5d1",
        "outputId": "f3ce2836-4d7a-4240-d715-f73888cad0bf",
        "colab": {
          "base_uri": "https://localhost:8080/"
        }
      },
      "outputs": [
        {
          "output_type": "execute_result",
          "data": {
            "text/plain": [
              "{'The Bodyguard': '1992', 'Saturday Night Fever': '1977'}"
            ]
          },
          "metadata": {},
          "execution_count": 15
        }
      ],
      "source": [
        "# Question sample dictionary\n",
        "\n",
        "soundtrack_dic = {\"The Bodyguard\":\"1992\", \"Saturday Night Fever\":\"1977\"}\n",
        "soundtrack_dic"
      ],
      "execution_count": 15
    },
    {
      "cell_type": "markdown",
      "metadata": {
        "id": "7448ca9a-306a-4924-a540-7407e040bf88"
      },
      "source": [
        "a) In the dictionary <code>soundtrack_dic</code> what are the keys ?\n"
      ]
    },
    {
      "cell_type": "code",
      "metadata": {
        "id": "165177b1-0cdc-464c-9a61-54018aa3a4f6",
        "outputId": "cf9f0e72-63ad-43ce-e0e7-346b9d860e23",
        "colab": {
          "base_uri": "https://localhost:8080/"
        }
      },
      "outputs": [
        {
          "output_type": "execute_result",
          "data": {
            "text/plain": [
              "dict_keys(['The Bodyguard', 'Saturday Night Fever'])"
            ]
          },
          "metadata": {},
          "execution_count": 16
        }
      ],
      "source": [
        "# Write your code below and press Shift+Enter to execute\n",
        "soundtrack_dic.keys()"
      ],
      "execution_count": 16
    },
    {
      "cell_type": "markdown",
      "metadata": {
        "id": "05e6ef7f-db01-499d-bc48-6fb315f97641"
      },
      "source": [
        "<details><summary>Click here for the solution</summary>\n",
        "\n",
        "```python\n",
        "soundtrack_dic.keys() # The Keys \"The Bodyguard\" and \"Saturday Night Fever\"\n",
        "\n",
        "```\n",
        "\n",
        "</details>\n"
      ]
    },
    {
      "cell_type": "markdown",
      "metadata": {
        "id": "6648358f-c868-4c2d-b7b0-f1b4951ebf9b"
      },
      "source": [
        "b) In the dictionary <code>soundtrack_dic</code> what are the values ?\n"
      ]
    },
    {
      "cell_type": "code",
      "metadata": {
        "id": "29719157-f206-4568-b462-93cd0bf74e83",
        "outputId": "fbf3543c-b251-45fd-c825-8d464b788ba7",
        "colab": {
          "base_uri": "https://localhost:8080/"
        }
      },
      "outputs": [
        {
          "output_type": "execute_result",
          "data": {
            "text/plain": [
              "dict_values(['1992', '1977'])"
            ]
          },
          "metadata": {},
          "execution_count": 30
        }
      ],
      "source": [
        "# Write your code below and press Shift+Enter to execute\n",
        "soundtrack_dic.values()"
      ],
      "execution_count": 30
    },
    {
      "cell_type": "markdown",
      "metadata": {
        "id": "ef9f2c0d-132a-4c48-93f7-29893c9c43c3"
      },
      "source": [
        "<details><summary>Click here for the solution</summary>\n",
        "\n",
        "```python\n",
        "soundtrack_dic.values() # The values are \"1992\" and \"1977\"\n",
        "\n",
        "```\n",
        "\n",
        "</details>\n"
      ]
    },
    {
      "cell_type": "markdown",
      "metadata": {
        "id": "cf68c311-3460-43c5-bdd9-828bce792f5a"
      },
      "source": [
        "<hr>\n"
      ]
    },
    {
      "cell_type": "markdown",
      "metadata": {
        "id": "590a81d1-ee00-4c6c-91da-789f53dddf32"
      },
      "source": [
        "<b>You will need this dictionary for the following questions:</b>\n"
      ]
    },
    {
      "cell_type": "markdown",
      "metadata": {
        "id": "32bd3c87-2f97-4ea3-b890-07f324d6367d"
      },
      "source": [
        "The Albums <b>Back in Black</b>, <b>The Bodyguard</b> and <b>Thriller</b> have the following music recording sales in millions 50, 50 and 65 respectively:\n"
      ]
    },
    {
      "cell_type": "markdown",
      "metadata": {
        "id": "7960dd31-2100-422e-a745-10892996a43a"
      },
      "source": [
        "a) Create a dictionary <code>album_sales_dict</code> where the keys are the album name and the sales in millions are the values.\n"
      ]
    },
    {
      "cell_type": "code",
      "metadata": {
        "id": "d28d81ef-6193-4014-8042-c75b789d656e",
        "outputId": "63590dd9-de1d-4c87-df9d-be8c5c802986",
        "colab": {
          "base_uri": "https://localhost:8080/"
        }
      },
      "outputs": [
        {
          "output_type": "execute_result",
          "data": {
            "text/plain": [
              "{'Back in Black': 50, 'The Bodyguard': 50, 'Thriller': 65}"
            ]
          },
          "metadata": {},
          "execution_count": 32
        }
      ],
      "source": [
        "# Write your code below and press Shift+Enter to execute\n",
        "album_sales_dict ={ \"Back in Black\":50,\"The Bodyguard\":50,\"Thriller\":65 }\n",
        "album_sales_dict"
      ],
      "execution_count": 32
    },
    {
      "cell_type": "markdown",
      "metadata": {
        "id": "9f733e59-61ba-4cc3-8140-51225ac18c50"
      },
      "source": [
        "<details><summary>Click here for the solution</summary>\n",
        "\n",
        "```python\n",
        "album_sales_dict = {\"The Bodyguard\":50, \"Back in Black\":50, \"Thriller\":65}\n",
        "\n",
        "```\n",
        "\n",
        "</details>\n"
      ]
    },
    {
      "cell_type": "markdown",
      "metadata": {
        "id": "c5d5ba19-c79a-4162-8468-428032efd997"
      },
      "source": [
        "b) Use the dictionary to find the total sales of <b>Thriller</b>:\n"
      ]
    },
    {
      "cell_type": "code",
      "metadata": {
        "id": "4b9762fc-9411-48ef-bb7e-629517bd9b01",
        "outputId": "2eea3ede-5425-4189-dd9d-49875a6599cd",
        "colab": {
          "base_uri": "https://localhost:8080/"
        }
      },
      "outputs": [
        {
          "output_type": "execute_result",
          "data": {
            "text/plain": [
              "65"
            ]
          },
          "metadata": {},
          "execution_count": 33
        }
      ],
      "source": [
        "# Write your code below and press Shift+Enter to execute\n",
        "album_sales_dict[\"Thriller\"]"
      ],
      "execution_count": 33
    },
    {
      "cell_type": "markdown",
      "metadata": {
        "id": "c9037576-d932-4b4e-a24d-e625132303f7"
      },
      "source": [
        "<details><summary>Click here for the solution</summary>\n",
        "\n",
        "```python\n",
        "album_sales_dict[\"Thriller\"]\n",
        "\n",
        "```\n",
        "\n",
        "</details>\n"
      ]
    },
    {
      "cell_type": "markdown",
      "metadata": {
        "id": "786a232d-4002-472b-b1b2-15a9a7d1a92b"
      },
      "source": [
        "c) Find the names of the albums from the dictionary using the method <code>keys()</code>:\n"
      ]
    },
    {
      "cell_type": "code",
      "metadata": {
        "id": "1f9871a9-466a-44dd-85b2-7c47b3cba0e1",
        "outputId": "f85ce003-7bc6-49ab-aa6e-bd1ea5adedde",
        "colab": {
          "base_uri": "https://localhost:8080/"
        }
      },
      "outputs": [
        {
          "output_type": "execute_result",
          "data": {
            "text/plain": [
              "dict_keys(['Back in Black', 'The Bodyguard', 'Thriller'])"
            ]
          },
          "metadata": {},
          "execution_count": 34
        }
      ],
      "source": [
        "# Write your code below and press Shift+Enter to execute\n",
        "album_sales_dict.keys()"
      ],
      "execution_count": 34
    },
    {
      "cell_type": "markdown",
      "metadata": {
        "id": "39358ab4-ca40-4295-9012-8f90303db4a8"
      },
      "source": [
        "<details><summary>Click here for the solution</summary>\n",
        "\n",
        "```python\n",
        "album_sales_dict.keys()\n",
        "\n",
        "```\n",
        "\n",
        "</details>\n"
      ]
    },
    {
      "cell_type": "markdown",
      "metadata": {
        "id": "608cce65-601e-4fa0-9543-f0c70b4cb8c5"
      },
      "source": [
        "d) Find the values of the recording sales from the dictionary using the method <code>values</code>:\n"
      ]
    },
    {
      "cell_type": "code",
      "metadata": {
        "id": "2b29fc2e-8814-4495-aedb-3ad13bde58ed",
        "outputId": "6d6931b9-1d73-4ea2-83d1-49cce60d078f",
        "colab": {
          "base_uri": "https://localhost:8080/"
        }
      },
      "outputs": [
        {
          "output_type": "execute_result",
          "data": {
            "text/plain": [
              "dict_values([50, 50, 65])"
            ]
          },
          "metadata": {},
          "execution_count": 35
        }
      ],
      "source": [
        "# Write your code below and press Shift+Enter to execute\n",
        "album_sales_dict.values()"
      ],
      "execution_count": 35
    },
    {
      "cell_type": "markdown",
      "metadata": {
        "id": "eba5107d-9534-4149-8e5d-26ae5a05d232"
      },
      "source": [
        "<details><summary>Click here for the solution</summary>\n",
        "\n",
        "```python\n",
        "album_sales_dict.values()\n",
        "\n",
        "```\n",
        "\n",
        "</details>\n"
      ]
    },
    {
      "cell_type": "markdown",
      "metadata": {
        "id": "860d461b-95d4-4e4b-89eb-6dbeb39bc7a4"
      },
      "source": [
        "<a id=\"Scenario\"></a>\n",
        "## Scenario:Inventory Store\n",
        "    \n"
      ]
    },
    {
      "cell_type": "markdown",
      "metadata": {
        "id": "61f14578-ae8a-44e6-8797-3686750cc31d"
      },
      "source": [
        "The inventory store scenario project utilizes a dictionary-based approach to develop a robust system for managing and tracking inventory in a retail store.\n",
        "<br>\n",
        "**Note:- You will be working with two product details.**\n"
      ]
    },
    {
      "cell_type": "markdown",
      "metadata": {
        "id": "ad715331-9e91-4329-95f4-036d39df86f4"
      },
      "source": [
        "## Task-1 Create an empty dictionary\n"
      ]
    },
    {
      "cell_type": "markdown",
      "metadata": {
        "id": "a4a6299b-aa94-41b2-b73d-87c6ca5e450b"
      },
      "source": [
        "\n",
        "First you need to create an empty dictionary, where you will be storing the product details.\n"
      ]
    },
    {
      "cell_type": "code",
      "metadata": {
        "id": "62e17ce7-b3c0-47b2-8e94-b006fd6dc54d"
      },
      "outputs": [],
      "source": [
        "#Type your code here\n",
        "inventory ={}"
      ],
      "execution_count": 22
    },
    {
      "cell_type": "markdown",
      "metadata": {
        "id": "8f19a45f-8b99-4cc2-8fe2-5b570717e1b4"
      },
      "source": [
        "<details> <summary>Click here for the solution</summary>\n",
        "\n",
        "```python\n",
        "\n",
        "inventory ={}\n",
        "\n",
        "```\n",
        "\n",
        "</details>\n"
      ]
    },
    {
      "cell_type": "markdown",
      "metadata": {
        "id": "82176c7c-3659-4eb2-a5f6-f57ed54ac6c2"
      },
      "source": [
        "## Task-2 Store the first product details in variable\n",
        "* Product Name= Mobile phone\n",
        "* Product Quantity= 5\n",
        "* Product price= 20000\n",
        "* Product Release Year= 2020\n"
      ]
    },
    {
      "cell_type": "code",
      "metadata": {
        "id": "a7cea723-b785-4423-9490-70770a88dbc9"
      },
      "outputs": [],
      "source": [
        "#type your code here\n",
        "ProductNo1 = \"Mobile Phone\"\n",
        "ProductNo1_quantity = 5\n",
        "ProductNo1_price = 20000\n",
        "ProductNo1_releaseYear= 2020"
      ],
      "execution_count": 36
    },
    {
      "cell_type": "markdown",
      "metadata": {
        "id": "6a8ec59e-bf35-4cea-8272-41127649082b"
      },
      "source": [
        "<details> <summary>Click here for the solution</summary>\n",
        "\n",
        "```python\n",
        "ProductNo1 = \"Mobile Phone\"\n",
        "ProductNo1_quantity = 5\n",
        "ProductNo1_price = 20000\n",
        "ProductNo1_releaseYear= 2020\n",
        "```\n",
        "\n",
        "</details>\n"
      ]
    },
    {
      "cell_type": "markdown",
      "metadata": {
        "id": "f9502183-c494-48e9-99d4-ed715125db89"
      },
      "source": [
        "## Task-3 Add the details in inventory\n"
      ]
    },
    {
      "cell_type": "code",
      "metadata": {
        "id": "3d0c0da4-6955-4f9c-b7e6-94e911144459"
      },
      "outputs": [],
      "source": [
        "#Type your code here\n",
        "inventory[\"ProductNo1\"]= ProductNo1\n",
        "inventory[\"ProductNo1_quantity\"]= ProductNo1_quantity\n",
        "inventory[\"ProductNo1_price\"]= ProductNo1_price\n",
        "inventory[\"ProductNo1_releaseYear\"]=ProductNo1_releaseYear"
      ],
      "execution_count": 37
    },
    {
      "cell_type": "markdown",
      "metadata": {
        "id": "b3d8408b-ffd5-4570-9a1f-8f42f67b92ae"
      },
      "source": [
        "<details> <summary>Click here for the solution</summary>\n",
        "\n",
        "```python\n",
        "\n",
        "inventory[\"ProductNo1\"]= ProductNo1\n",
        "inventory[\"ProductNo1_quantity\"]= ProductNo1_quantity\n",
        "inventory[\"ProductNo1_price\"]= ProductNo1_price\n",
        "inventory[\"ProductNo1_releaseYear\"]=ProductNo1_releaseYear\n",
        "\n",
        "```\n",
        "\n",
        "</details>\n"
      ]
    },
    {
      "cell_type": "markdown",
      "metadata": {
        "id": "9dad1ab5-a6b6-48a0-9e75-10500b70e122"
      },
      "source": [
        "## Task-4 Store the second product details in a variable.\n",
        "* Product Name= \"Laptop\"\n",
        "* Product Quantity= 10\n",
        "* Product price = 50000\n",
        "* Product Release Year= 2023\n"
      ]
    },
    {
      "cell_type": "code",
      "metadata": {
        "id": "9764bed6-2f90-49cc-b0bb-22570e38d451"
      },
      "outputs": [],
      "source": [
        "#type your code here\n",
        "ProductNo2 = \"Laptop\"\n",
        "ProductNo2_quantity = 10\n",
        "ProductNo2_price = 50000\n",
        "ProductNo2_releaseYear= 2023"
      ],
      "execution_count": 38
    },
    {
      "cell_type": "markdown",
      "metadata": {
        "id": "c14df371-7206-458c-b60d-31808e3e8686"
      },
      "source": [
        "<details> <summary>Click here for the solution</summary>\n",
        "\n",
        "```python\n",
        "\n",
        "ProductNo2 = \"Laptop\"\n",
        "ProductNo2_quantity = 10\n",
        "ProductNo2_price = 50000\n",
        "ProductNo2_releaseYear= 2023\n",
        "\n",
        "```\n",
        "\n",
        "</details>\n"
      ]
    },
    {
      "cell_type": "markdown",
      "metadata": {
        "id": "0e745aa3-b3f4-4205-a34e-42705c30fdb4"
      },
      "source": [
        "## Task-5 Add the item detail into the inventory.\n"
      ]
    },
    {
      "cell_type": "code",
      "metadata": {
        "id": "59329445-e04a-4ad7-9769-994e930edc98"
      },
      "outputs": [],
      "source": [
        "#type your code here\n",
        "inventory[\"ProductNo2\"]= ProductNo2\n",
        "inventory[\"ProductNo2_quantity\"]= ProductNo2_quantity\n",
        "inventory[\"ProductNo2_price\"]= ProductNo2_price\n",
        "inventory[\"ProductNo2_releaseYear\"]=ProductNo2_releaseYear"
      ],
      "execution_count": 26
    },
    {
      "cell_type": "markdown",
      "metadata": {
        "id": "ee337bab-8b7d-4f65-bbd9-1c44365a4572"
      },
      "source": [
        "<details> <summary>Click here for the solution</summary>\n",
        "\n",
        "```python\n",
        "\n",
        "inventory[\"ProductNo2\"]= ProductNo2\n",
        "inventory[\"ProductNo2_quantity\"]= ProductNo2_quantity\n",
        "inventory[\"ProductNo2_price\"]= ProductNo2_price\n",
        "inventory[\"ProductNo2_releaseYear\"]=ProductNo2_releaseYear\n",
        "\n",
        "```\n",
        "\n",
        "</details>\n"
      ]
    },
    {
      "cell_type": "markdown",
      "metadata": {
        "id": "74904005-56a6-46fb-b33e-b70852564f3c"
      },
      "source": [
        "## Task-6 Display the Products present in the inventory\n"
      ]
    },
    {
      "cell_type": "markdown",
      "metadata": {
        "id": "2d2823d0-2a3e-4a7e-9bac-13588ad68b04"
      },
      "source": [
        "Use print statement for displaying the products\n"
      ]
    },
    {
      "cell_type": "code",
      "metadata": {
        "id": "03bda0cc-fe68-45dd-a3a9-230255d1477f",
        "outputId": "47b2eddd-bfbc-4fee-a7e1-a0d4bd00de39",
        "colab": {
          "base_uri": "https://localhost:8080/"
        }
      },
      "outputs": [
        {
          "output_type": "stream",
          "name": "stdout",
          "text": [
            "{'ProductNo1': 'Mobile Phone', 'ProductNo1_quantity': 5, 'ProductNo1_price': 20000, 'ProductNo1_releaseYear': 2020, 'ProductNo2': 'Laptop', 'ProductNo2_quantity': 10, 'ProductNo2_price': 50000, 'ProductNo2_releaseYear': 2023}\n"
          ]
        }
      ],
      "source": [
        "\n",
        "print(inventory)#type your code here"
      ],
      "execution_count": 27
    },
    {
      "cell_type": "markdown",
      "metadata": {
        "id": "0ede8dbe-7c9e-4d8e-8520-33ecd1e2166c"
      },
      "source": [
        "<details> <summary>Click here for the solution</summary>\n",
        "\n",
        "```python\n",
        "\n",
        "print(inventory)\n",
        "\n",
        "```\n",
        "\n",
        "</details>\n"
      ]
    },
    {
      "cell_type": "markdown",
      "metadata": {
        "id": "e6572b9f-1e9e-4f47-8f14-6ac2a8fd72c2"
      },
      "source": [
        "## Task-7 Check if `ProductNo1_releaseYear` and `ProductNo2_releaseYear` is in the inventory\n"
      ]
    },
    {
      "cell_type": "code",
      "metadata": {
        "id": "5bd796d3-d55e-4b24-84f3-bea84142d3fe",
        "outputId": "0dfd443a-65ba-4b50-fd10-88fa4ff43eb3",
        "colab": {
          "base_uri": "https://localhost:8080/"
        }
      },
      "outputs": [
        {
          "output_type": "stream",
          "name": "stdout",
          "text": [
            "True\n",
            "True\n"
          ]
        }
      ],
      "source": [
        "#Type your code here\n",
        "print(\"ProductNo1_releaseYear\" in inventory)\n",
        "print(\"ProductNo2_releaseYear\" in inventory)"
      ],
      "execution_count": 39
    },
    {
      "cell_type": "markdown",
      "metadata": {
        "id": "8a6a880e-9c0e-433f-9ec7-c1ca069c7443"
      },
      "source": [
        "<details> <summary>Click here for the solution</summary>\n",
        "\n",
        "```python\n",
        "\n",
        "print(\"ProductNo1_releaseYear\" in inventory)\n",
        "print(\"ProductNo2_releaseYear\" in inventory)\n",
        "\n",
        "```\n",
        "\n",
        "</details>\n"
      ]
    },
    {
      "cell_type": "markdown",
      "metadata": {
        "id": "386e919a-28f1-435e-98a2-e7a686282256"
      },
      "source": [
        "**As in inventory `Release year` is not required, let's delete it.**\n"
      ]
    },
    {
      "cell_type": "markdown",
      "metadata": {
        "id": "e51ffd51-3a4e-43d1-a1c6-cd82e7686284"
      },
      "source": [
        "## Task-8 Delete release year of both the products from the inventory\n"
      ]
    },
    {
      "cell_type": "code",
      "metadata": {
        "id": "2049ebe5-90b8-46ed-8004-1d531175ceb4"
      },
      "outputs": [],
      "source": [
        "#Type your code here\n",
        "del(inventory[\"ProductNo1_releaseYear\"])\n",
        "del(inventory[\"ProductNo2_releaseYear\"])"
      ],
      "execution_count": 40
    },
    {
      "cell_type": "markdown",
      "metadata": {
        "id": "af43c6c4-0a02-4832-aa9e-eec10fa8f60b"
      },
      "source": [
        "\n",
        "<details> <summary>Click here for the solution</summary>\n",
        "\n",
        "```python\n",
        "\n",
        "del(inventory[\"ProductNo1_releaseYear\"])\n",
        "del(inventory[\"ProductNo2_releaseYear\"])\n",
        "\n",
        "```\n",
        "\n",
        "</details>\n"
      ]
    },
    {
      "cell_type": "markdown",
      "metadata": {
        "id": "7913fa39-6165-4aae-b0d2-9a4569576158"
      },
      "source": [
        "<hr>\n",
        "<h2>The last exercise!</h2>\n",
        "<p>Congratulations, you have completed your first lesson and hands-on lab in Python.\n",
        "<hr>\n"
      ]
    },
    {
      "cell_type": "markdown",
      "metadata": {
        "id": "d4724d4a-4f86-47bf-a9b4-d7a75996441a"
      },
      "source": [
        "## Author\n",
        "\n",
        "<a href=\"https://www.linkedin.com/in/joseph-s-50398b136/?utm_medium=Exinfluencer&utm_source=Exinfluencer&utm_content=000026UJ&utm_term=10006555&utm_id=NA-SkillsNetwork-Channel-SkillsNetworkCoursesIBMDeveloperSkillsNetworkPY0101ENSkillsNetwork19487395-2021-01-01\" target=\"_blank\">Joseph Santarcangelo</a>\n",
        "\n",
        "## Other contributors\n",
        "\n",
        "<a href=\"https://www.linkedin.com/in/jiahui-mavis-zhou-a4537814a?utm_medium=Exinfluencer&utm_source=Exinfluencer&utm_content=000026UJ&utm_term=10006555&utm_id=NA-SkillsNetwork-Channel-SkillsNetworkCoursesIBMDeveloperSkillsNetworkPY0101ENSkillsNetwork19487395-2021-01-01\">Mavis Zhou</a>\n",
        "\n",
        "<!--## Change Log--!>\n",
        "\n",
        "<!--| Date (YYYY-MM-DD) | Version | Changed By    | Change Description                                                  |\n",
        "--!>\n",
        "<!--| ----------------- | ------- | ------------- | ------------------------------------------------------------------- |\n",
        "--!>\n",
        "<!--| 2023-05-11        |  2.3    | Akansha yadav | Updated lab with scenario                                           |\n",
        "--!>\n",
        "<!--|  2022-01-10        | 2.2     | Malika Singla | Removed the readme for GitShare                                     |\n",
        "--!>\n",
        "<!--| 2020-09-09        | 2.1     | Malika Singla | Updated the variable soundtrack_dict to soundtrack_dic in Questions |\n",
        "--!>\n",
        "<!--| 2020-08-26        | 2.0     | Lavanya       | Moved lab to course repo in GitLab                                  |\n",
        "--!>\n",
        "<!--|                   |         |               |                                                                     |\n",
        "--!>\n",
        "<!--|                   |         |               |                                                                     |\n",
        "--!>\n",
        "\n",
        "## <h3 align=\"center\"> © IBM Corporation 2020. All rights reserved. <h3/>\n"
      ]
    },
    {
      "cell_type": "code",
      "metadata": {
        "id": "0e12a475-3493-4ede-8198-aff3f98ac6c4"
      },
      "outputs": [],
      "source": [],
      "execution_count": 29
    }
  ],
  "metadata": {
    "kernelspec": {
      "name": "python",
      "display_name": "Python (Pyodide)",
      "language": "python"
    },
    "language_info": {
      "codemirror_mode": {
        "name": "python",
        "version": 3
      },
      "file_extension": ".py",
      "mimetype": "text/x-python",
      "name": "python",
      "nbconvert_exporter": "python",
      "pygments_lexer": "ipython3",
      "version": "3.8"
    },
    "prev_pub_hash": "6fb99fc1bd1c6043651a26c90998a0dbfe471d86b1b01a92171f0f69789d1939",
    "colab": {
      "provenance": []
    }
  },
  "nbformat": 4,
  "nbformat_minor": 0
}