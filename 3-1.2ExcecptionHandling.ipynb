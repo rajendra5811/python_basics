{
  "cells": [
    {
      "cell_type": "markdown",
      "metadata": {
        "id": "4b372a7b-9257-4f40-b962-95ad80fe0e2f"
      },
      "source": [
        "<p style=\"text-align:center\">\n",
        "    <a href=\"https://skills.network\" target=\"_blank\">\n",
        "    <img src=\"https://cf-courses-data.s3.us.cloud-object-storage.appdomain.cloud/assets/logos/SN_web_lightmode.png\" width=\"200\" alt=\"Skills Network Logo\">\n",
        "    </a>\n",
        "</p>\n"
      ]
    },
    {
      "cell_type": "markdown",
      "metadata": {
        "id": "ffeccc07-d866-482e-9a4e-15eebf5b6dd1"
      },
      "source": [
        "# **Exception Handling**\n",
        "\n",
        "Estimated time needed: **15** minutes\n",
        "    \n",
        "\n",
        "## Objectives\n",
        "\n",
        "After completing this lab you will be able to:\n",
        "\n",
        "* Understand exceptions    \n",
        "* Handle the exceptions\n"
      ]
    },
    {
      "cell_type": "markdown",
      "metadata": {
        "id": "54dd9493-3bb5-4d2b-8001-945df29073eb"
      },
      "source": [
        "## Table of Contents\n"
      ]
    },
    {
      "cell_type": "markdown",
      "metadata": {
        "id": "cdfe2c43-edde-4089-8fdc-e6dff6b988d6"
      },
      "source": [
        "* What is an Exception?\n",
        "* Exception Handling\n"
      ]
    },
    {
      "cell_type": "markdown",
      "metadata": {
        "id": "1a8510e2-a778-48ef-b9d9-051e44955fa6"
      },
      "source": [
        "----\n"
      ]
    },
    {
      "cell_type": "markdown",
      "metadata": {
        "id": "4eeed36c-444c-42fb-a02a-9f33af380e63"
      },
      "source": [
        "## What is an Exception?\n"
      ]
    },
    {
      "cell_type": "markdown",
      "metadata": {
        "id": "0eafccf4-b0ba-45f1-99bb-23ae9baef093"
      },
      "source": [
        "In this section you will learn about what an exception is and see examples of them.\n"
      ]
    },
    {
      "cell_type": "markdown",
      "metadata": {
        "id": "0caf1ae5-e43a-43f6-8fa8-77f509cea7f6"
      },
      "source": [
        "### Definition\n"
      ]
    },
    {
      "cell_type": "markdown",
      "metadata": {
        "id": "5306a4cc-a483-48fa-9a58-36b942357346"
      },
      "source": [
        "An exception is an error that occurs during the execution of code. This error causes the code to raise an exception and if not prepared to handle it will halt the execution of the code.\n"
      ]
    },
    {
      "cell_type": "markdown",
      "metadata": {
        "id": "589d4ddf-3185-4224-90f2-29c8edcab1ac"
      },
      "source": [
        "### Examples\n"
      ]
    },
    {
      "cell_type": "markdown",
      "metadata": {
        "id": "6b12fd07-8517-46e3-825e-37fdf083c69a"
      },
      "source": [
        "Run each piece of code and observe the exception raised\n"
      ]
    },
    {
      "cell_type": "code",
      "metadata": {
        "id": "1156d697-0782-4ff2-a62b-80c23251c320"
      },
      "outputs": [],
      "source": [
        "#1/0"
      ],
      "execution_count": 2
    },
    {
      "cell_type": "markdown",
      "metadata": {
        "id": "edeb45bf-0d8c-4325-aa4e-22a23f745f84"
      },
      "source": [
        "<code>ZeroDivisionError</code> occurs when you try to divide by zero.\n"
      ]
    },
    {
      "cell_type": "code",
      "metadata": {
        "id": "7881fda4-71d8-4360-8380-389f43abc478"
      },
      "outputs": [],
      "source": [
        "\n",
        "y = a + 5"
      ],
      "execution_count": 5
    },
    {
      "cell_type": "markdown",
      "metadata": {
        "id": "d10f799b-dc79-44b6-8e78-8b86506a0826"
      },
      "source": [
        "<code>NameError</code> -- in this case, it means that you tried to use the variable a when it was not defined.\n"
      ]
    },
    {
      "cell_type": "code",
      "metadata": {
        "id": "1a5bed06-7e1c-4a8e-b310-ecec3fd37791"
      },
      "outputs": [],
      "source": [
        "a = [1, 2, 3]\n",
        "a[10]"
      ],
      "execution_count": null
    },
    {
      "cell_type": "markdown",
      "metadata": {
        "id": "46e833cb-6d5b-4208-89b5-2d0d4cc22795"
      },
      "source": [
        "<code>IndexError</code> -- in this case, it occured because you tried to access data from a list using an index that does not exist for this list.\n"
      ]
    },
    {
      "cell_type": "markdown",
      "metadata": {
        "id": "0dabd8cf-77cb-4c4f-85cc-9ab3b0eb81c3"
      },
      "source": [
        "There are many more exceptions that are built into Python, here is a list of them https://docs.python.org/3/library/exceptions.html\n"
      ]
    },
    {
      "cell_type": "markdown",
      "metadata": {
        "id": "fe44579b-2835-42e1-8a37-a0491a6406c6"
      },
      "source": [
        "## Exception Handling\n"
      ]
    },
    {
      "cell_type": "markdown",
      "metadata": {
        "id": "54ce762b-cfd6-4b72-8685-25e5755ac054"
      },
      "source": [
        "In this section you will learn how to handle exceptions. You will understand how to make your program perform specified tasks instead of halting code execution when an exception is encountered.\n"
      ]
    },
    {
      "cell_type": "markdown",
      "metadata": {
        "id": "adf49759-d4af-4fa3-921b-9a46740581b2"
      },
      "source": [
        "### Try Except\n"
      ]
    },
    {
      "cell_type": "markdown",
      "metadata": {
        "id": "abd4c7c3-c650-42b0-9de1-6f9b5c165dfe"
      },
      "source": [
        "A <code>try except</code> will allow you to execute code that might raise an exception and in the case of any exception or a specific one we can handle or catch the exception and execute specific code. This will allow us to continue the execution of our program even if there is an exception.\n",
        "\n",
        "Python tries to execute the code in the <code>try</code> block. In this case if there is any exception raised by the code in the <code>try</code> block, it will be caught and the code block in the <code>except</code> block will be executed. After that, the code that comes <em>after</em> the try except will be executed.\n"
      ]
    },
    {
      "cell_type": "code",
      "metadata": {
        "id": "babff339-b5a6-4052-8fe2-26bb4f3f50e6"
      },
      "outputs": [],
      "source": [
        "# potential code before try catch\n",
        "\n",
        "try:\n",
        "    # code to try to execute\n",
        "except:\n",
        "    # code to execute if there is an exception\n",
        "\n",
        "# code that will still execute if there is an exception"
      ],
      "execution_count": null
    },
    {
      "cell_type": "markdown",
      "metadata": {
        "id": "d37333dd-5b13-42a7-8d57-6a547d14a965"
      },
      "source": [
        "### Try Except Example\n"
      ]
    },
    {
      "cell_type": "markdown",
      "metadata": {
        "id": "3bc823eb-679b-4379-a3e6-2bfe41b3f39c"
      },
      "source": [
        "In this example we are trying to divide a number given by the user, save the outcome in the variable <code>a</code>, and then we would like to print the result of the operation. When taking user input and dividing a number by it there are a couple of exceptions that can be raised. For example if we divide by zero. Try running the following block of code with <code>b</code> as a number. An exception will only be raised if <code>b</code> is zero.\n"
      ]
    },
    {
      "cell_type": "code",
      "metadata": {
        "colab": {
          "base_uri": "https://localhost:8080/"
        },
        "id": "87c94ef0-b575-4fb9-9755-43c979ad9dbb",
        "outputId": "e8da286d-2d33-4d66-c639-a8d0c0a6b091"
      },
      "outputs": [
        {
          "output_type": "stream",
          "name": "stdout",
          "text": [
            "Please enter a number to divide a0\n",
            "There was an error\n"
          ]
        }
      ],
      "source": [
        "a = 1\n",
        "\n",
        "try:\n",
        "    b = int(input(\"Please enter a number to divide a\"))\n",
        "    a = a/b\n",
        "    print(\"Success a=\",a)\n",
        "except:\n",
        "    print(\"There was an error\")\n",
        "\n"
      ],
      "execution_count": 6
    },
    {
      "cell_type": "markdown",
      "metadata": {
        "id": "6cc03e86-85d7-473b-a1ae-1b1e35342a3b"
      },
      "source": [
        "### Try Except Specific\n"
      ]
    },
    {
      "cell_type": "markdown",
      "metadata": {
        "id": "2fdc0c78-192c-4b60-b345-1a3b1270af06"
      },
      "source": [
        "A specific <code>try except</code> allows you to catch certain exceptions and also execute certain code depending on the exception. This is useful if you do not want to deal with some exceptions and the execution should halt. It can also help you find errors in your code that you might not be aware of. Furthermore, it can help you differentiate responses to different exceptions. In this case, the code after the try except might not run depending on the error.\n"
      ]
    },
    {
      "cell_type": "markdown",
      "metadata": {
        "id": "814e102d-57f7-42d8-b0bd-8b186d841098"
      },
      "source": [
        "<b>Do not run, just to illustrate:</b>\n"
      ]
    },
    {
      "cell_type": "code",
      "metadata": {
        "id": "68117370-d1e1-489f-8d5e-36764325c6af"
      },
      "outputs": [],
      "source": [
        "# potential code before try catch\n",
        "\n",
        "try:\n",
        "    # code to try to execute\n",
        "except (ZeroDivisionError, NameError):\n",
        "    # code to execute if there is an exception of the given types\n",
        "\n",
        "# code that will execute if there is no exception or a one that we are handling"
      ],
      "execution_count": null
    },
    {
      "cell_type": "code",
      "metadata": {
        "id": "8c2695b7-19c5-4197-a101-9ccd35da2254"
      },
      "outputs": [],
      "source": [
        "# potential code before try catch\n",
        "\n",
        "try:\n",
        "    # code to try to execute\n",
        "except ZeroDivisionError:\n",
        "    # code to execute if there is a ZeroDivisionError\n",
        "except NameError:\n",
        "    # code to execute if there is a NameError\n",
        "\n",
        "# code that will execute if there is no exception or a one that we are handling"
      ],
      "execution_count": null
    },
    {
      "cell_type": "markdown",
      "metadata": {
        "id": "0fc95ba9-5ef9-4f99-a319-eaab37dc15cc"
      },
      "source": [
        "You can also have an empty <code>except</code> at the end to catch an unexpected exception:\n"
      ]
    },
    {
      "cell_type": "markdown",
      "metadata": {
        "id": "26900f43-71e5-43d7-a948-5ace96792a38"
      },
      "source": [
        "<b>Do not run, just to illustrate:</b>\n"
      ]
    },
    {
      "cell_type": "code",
      "metadata": {
        "id": "3ceb2e76-df35-4690-8497-44d91dc15f94"
      },
      "outputs": [],
      "source": [
        "# potential code before try catch\n",
        "\n",
        "try:\n",
        "    # code to try to execute\n",
        "except ZeroDivisionError:\n",
        "    # code to execute if there is a ZeroDivisionError\n",
        "except NameError:\n",
        "    # code to execute if there is a NameError\n",
        "except:\n",
        "    # code to execute if ther is any exception\n",
        "\n",
        "# code that will execute if there is no exception or a one that we are handling"
      ],
      "execution_count": null
    },
    {
      "cell_type": "markdown",
      "metadata": {
        "id": "0f5ffe20-ff2f-4d27-9c94-d6d767d7f67a"
      },
      "source": [
        "### Try Except Specific Example\n"
      ]
    },
    {
      "cell_type": "markdown",
      "metadata": {
        "id": "db7018ad-fac7-4a88-8d7b-9bb0cb587e59"
      },
      "source": [
        "This is the same example as above, but now we will add differentiated messages depending on the exception, letting the user know what is wrong with the input.\n"
      ]
    },
    {
      "cell_type": "code",
      "metadata": {
        "colab": {
          "base_uri": "https://localhost:8080/"
        },
        "id": "bf2f5dee-4e63-49fc-8a4f-6d6292d6ca7f",
        "outputId": "3976cf6d-eec4-4de4-b5a8-6b94070c9f2b"
      },
      "outputs": [
        {
          "output_type": "stream",
          "name": "stdout",
          "text": [
            "Please enter a number to divide a0\n",
            "The number you provided cant divide 1 because it is 0\n"
          ]
        }
      ],
      "source": [
        "a = 1\n",
        "\n",
        "try:\n",
        "    b = int(input(\"Please enter a number to divide a\"))\n",
        "    a = a/b\n",
        "    print(\"Success a=\",a)\n",
        "except ZeroDivisionError:\n",
        "    print(\"The number you provided cant divide 1 because it is 0\")\n",
        "except ValueError:\n",
        "    print(\"You did not provide a number\")\n",
        "except:\n",
        "    print(\"Something went wrong\")\n",
        "\n"
      ],
      "execution_count": 7
    },
    {
      "cell_type": "markdown",
      "metadata": {
        "id": "975e37ee-abc2-41b6-9115-d2ffa2ff3ce3"
      },
      "source": [
        "### Try Except Else and Finally\n"
      ]
    },
    {
      "cell_type": "markdown",
      "metadata": {
        "id": "1ea9dba7-003d-4896-930c-dabf6519b8d9"
      },
      "source": [
        "<code>else</code> allows one to check if there was no exception when executing the try block. This is useful when we want to execute something only if there were no errors.\n"
      ]
    },
    {
      "cell_type": "markdown",
      "metadata": {
        "id": "1df955f3-da8c-46c0-bcd7-3810f7f11ae7"
      },
      "source": [
        "<b>do not run, just to illustrate</b>\n"
      ]
    },
    {
      "cell_type": "code",
      "metadata": {
        "id": "735a5f5e-c0a2-409b-9537-192ea6294751"
      },
      "outputs": [],
      "source": [
        "# potential code before try catch\n",
        "\n",
        "try:\n",
        "    # code to try to execute\n",
        "except ZeroDivisionError:\n",
        "    # code to execute if there is a ZeroDivisionError\n",
        "except NameError:\n",
        "    # code to execute if there is a NameError\n",
        "except:\n",
        "    # code to execute if ther is any exception\n",
        "else:\n",
        "    # code to execute if there is no exception\n",
        "\n",
        "# code that will execute if there is no exception or a one that we are handling"
      ],
      "execution_count": null
    },
    {
      "cell_type": "markdown",
      "metadata": {
        "id": "7ca1176b-374a-4f3a-a670-5a0810ef92f4"
      },
      "source": [
        "<code>finally</code> allows us to always execute something even if there is an exception or not. This is usually used to signify the end of the try except.\n"
      ]
    },
    {
      "cell_type": "code",
      "metadata": {
        "id": "7b61b8c7-8b29-4496-9d1b-765692b4ecae"
      },
      "outputs": [],
      "source": [
        "# potential code before try catch\n",
        "\n",
        "try:\n",
        "    # code to try to execute\n",
        "except ZeroDivisionError:\n",
        "    # code to execute if there is a ZeroDivisionError\n",
        "except NameError:\n",
        "    # code to execute if there is a NameError\n",
        "except:\n",
        "    # code to execute if ther is any exception\n",
        "else:\n",
        "    # code to execute if there is no exception\n",
        "finally:\n",
        "    # code to execute at the end of the try except no matter what\n",
        "\n",
        "# code that will execute if there is no exception or a one that we are handling"
      ],
      "execution_count": null
    },
    {
      "cell_type": "markdown",
      "metadata": {
        "id": "cfb32725-4159-419e-8c0e-77e374297adb"
      },
      "source": [
        "### Try Except Else and Finally Example\n"
      ]
    },
    {
      "cell_type": "markdown",
      "metadata": {
        "id": "edbb1239-f06e-468a-abbd-2d46ae7aed53"
      },
      "source": [
        "You might have noticed that even if there is an error the value of <code>a</code> is always printed. Let's use the <code>else</code> and print the value of <code>a</code> only if there is no error.\n"
      ]
    },
    {
      "cell_type": "code",
      "metadata": {
        "colab": {
          "base_uri": "https://localhost:8080/"
        },
        "id": "22e3d015-862c-4212-8f4b-803de9c52f17",
        "outputId": "a467b741-81ba-436d-94a9-2d3e0b049dad"
      },
      "outputs": [
        {
          "output_type": "stream",
          "name": "stdout",
          "text": [
            "Please enter a number to divide a5\n",
            "success a= 0.2\n"
          ]
        }
      ],
      "source": [
        "a = 1\n",
        "\n",
        "try:\n",
        "    b = int(input(\"Please enter a number to divide a\"))\n",
        "    a = a/b\n",
        "except ZeroDivisionError:\n",
        "    print(\"The number you provided cant divide 1 because it is 0\")\n",
        "except ValueError:\n",
        "    print(\"You did not provide a number\")\n",
        "except:\n",
        "    print(\"Something went wrong\")\n",
        "else:\n",
        "    print(\"success a=\",a)"
      ],
      "execution_count": 8
    },
    {
      "cell_type": "markdown",
      "metadata": {
        "id": "fbf4fc32-b704-4fd1-bf36-40edd6a3d993"
      },
      "source": [
        "Now lets let the user know that we are done processing their answer. Using the <code>finally</code>, let's add a print.\n"
      ]
    },
    {
      "cell_type": "code",
      "metadata": {
        "colab": {
          "base_uri": "https://localhost:8080/"
        },
        "id": "13a2526f-fd0a-4697-9f3b-6da1a9d813c5",
        "outputId": "aa054718-f142-4269-a3f6-6a09af4dbd8b"
      },
      "outputs": [
        {
          "output_type": "stream",
          "name": "stdout",
          "text": [
            "Please enter a number to divide a5\n",
            "success a= 0.2\n",
            "Processing Complete\n"
          ]
        }
      ],
      "source": [
        "a = 1\n",
        "\n",
        "try:\n",
        "    b = int(input(\"Please enter a number to divide a\"))\n",
        "    a = a/b\n",
        "except ZeroDivisionError:\n",
        "    print(\"The number you provided cant divide 1 because it is 0\")\n",
        "except ValueError:\n",
        "    print(\"You did not provide a number\")\n",
        "except:\n",
        "    print(\"Something went wrong\")\n",
        "else:\n",
        "    print(\"success a=\",a)\n",
        "finally:\n",
        "    print(\"Processing Complete\")"
      ],
      "execution_count": 9
    },
    {
      "cell_type": "markdown",
      "metadata": {
        "id": "e556efb7-7196-43e5-95eb-c5286517dbbd"
      },
      "source": [
        "<center>\n",
        "    \n",
        "    \n",
        "# Practice Exercises\n",
        "\n",
        "</center>\n"
      ]
    },
    {
      "cell_type": "markdown",
      "metadata": {
        "id": "10243386-43cf-491d-8cb7-1b7cdb0256ba"
      },
      "source": [
        "## Exercise 1: Handling ZeroDivisionError\n"
      ]
    },
    {
      "cell_type": "markdown",
      "metadata": {
        "id": "825d46a8-057a-4d7d-9d6d-ef5b7a9353d5"
      },
      "source": [
        "Imagine you have two numbers and want to determine what happens when you divide one number by the other. To do this, you need to create a Python function called `safe_divide.` You give this function two numbers, a `'numerator'` and a `'denominator'`. The 'numerator' is the number you want to divide, and the `'denominator'` is the number you want to divide by. Use the user input method of Python to take the values.\n",
        "\n",
        "The function should be able to do the division for you and give you the result. But here's the catch: if you try to divide by zero (which is not allowed in math), the function should be smart enough to catch that and tell you that it's not possible to divide by zero. Instead of showing an error, it should return None, which means 'nothing' or 'no value', and print `\"Error: Cannot divide by Zero.`\n"
      ]
    },
    {
      "cell_type": "code",
      "metadata": {
        "colab": {
          "base_uri": "https://localhost:8080/"
        },
        "id": "80d3341c-b3e9-4984-a66c-712b2ee0b8ed",
        "outputId": "f3332ee5-473f-4fcf-9fb0-378ebf95fd6d"
      },
      "outputs": [
        {
          "output_type": "stream",
          "name": "stdout",
          "text": [
            "Enter the numerator value:-1\n",
            "Enter the denominator value:-0\n",
            "Error: Cannot divide by zero.\n",
            "None\n"
          ]
        }
      ],
      "source": [
        "#Type your code here\n",
        "def safe_divide(numerator,denominator):\n",
        "    try:\n",
        "        result = numerator / denominator\n",
        "        return result\n",
        "    except ZeroDivisionError:\n",
        "        print(\"Error: Cannot divide by zero.\")\n",
        "        return None\n",
        "# Test case\n",
        "numerator=int(input(\"Enter the numerator value:-\"))\n",
        "denominator=int(input(\"Enter the denominator value:-\"))\n",
        "print(safe_divide(numerator,denominator))"
      ],
      "execution_count": 12
    },
    {
      "cell_type": "markdown",
      "metadata": {
        "id": "8229aecb-8447-4c7e-ad48-c7cb20a4eec7"
      },
      "source": [
        "**Note:- Practice handling exceptions by trying different nteger values (positive and negative)**\n"
      ]
    },
    {
      "cell_type": "markdown",
      "metadata": {
        "id": "6ab7eb83-df41-4349-b1c7-c31e4e3a6f4a"
      },
      "source": [
        "<details><summary>Click here for the hints</summary>\n",
        "\n",
        "```python\n",
        "Follow these: -\n",
        "* Define a function to perform the division and use two arguments.\n",
        "* Use the try-except block to handle ZeroDivisionError.\n",
        "* Return the result of the division if no error occurs.\n",
        "* Return None if division by zero occurs.\n",
        "* take user input for numerator and denominator values.\n",
        "* call and print your function with the user inputs.\n",
        "**Note:- Test with different inputs to validate error handling.**\n",
        "```\n",
        "\n",
        "</details>\n"
      ]
    },
    {
      "cell_type": "markdown",
      "metadata": {
        "id": "949043b5-f50c-436e-99db-ef8ff6071ec2"
      },
      "source": [
        "\n",
        "<details><summary>Click here for the solution</summary>\n",
        "\n",
        "```python\n",
        "\n",
        "def safe_divide(numerator,denominator):\n",
        "    try:\n",
        "        result = numerator / denominator\n",
        "        return result\n",
        "    except ZeroDivisionError:\n",
        "        print(\"Error: Cannot divide by zero.\")\n",
        "        return None\n",
        "# Test case\n",
        "numerator=int(input(\"Enter the numerator value:-\"))\n",
        "denominator=int(input(\"Enter the denominator value:-\"))\n",
        "print(safe_divide(numerator,denominator))\n",
        "```\n",
        "\n",
        "</details>\n"
      ]
    },
    {
      "cell_type": "markdown",
      "metadata": {
        "id": "bbe4f76a-5649-428d-a125-40ba1d12ea1d"
      },
      "source": [
        "## Exercise 2: Handling ValueError\n"
      ]
    },
    {
      "cell_type": "markdown",
      "metadata": {
        "id": "982df64f-4f3f-4eed-845f-e98b058953e5"
      },
      "source": [
        "Imagine you have a number and want to calculate its square root. To do this, you need to create a Python function. You give this function one number, `'number1'`.\n",
        "\n",
        "The function should generate the square root value if you provide a positive integer or float value as input. However, the function should be clever enough to detect the mistake if you enter a negative value. It should kindly inform you with a message saying, `'Invalid input! Please enter a positive integer or a float value.`\n"
      ]
    },
    {
      "cell_type": "code",
      "metadata": {
        "id": "a81417fd-94ee-4307-9235-f43f91aef701"
      },
      "outputs": [],
      "source": [
        "#Type your code here\n",
        "import math\n",
        "def perform_calculation(number1):\n",
        "    try:\n",
        "        result = math.sqrt(number1)\n",
        "        print(f\"Result: {result}\")\n",
        "    except ValueError:\n",
        "        print(\"Error: Invalid input! Please enter a positive integer or a float value.\")"
      ],
      "execution_count": 13
    },
    {
      "cell_type": "markdown",
      "metadata": {
        "id": "7e1cb28f-e48c-4bd5-ab29-fc4a8143426b"
      },
      "source": [
        "**Note:- Practice handling exceptions by trying different integers values (positive and negative) or float values (positive and negative).**\n"
      ]
    },
    {
      "cell_type": "markdown",
      "metadata": {
        "id": "0bad1b01-b06c-4d54-a067-2ceb21ba0c77"
      },
      "source": [
        "<details><summary>Click here for the hints</summary>\n",
        "\n",
        "```python\n",
        "Follow these:-\n",
        "* Define a function to perform square root of the argument.\n",
        "* Use try-except block for error handling.\n",
        "* Use `sqrt()` function from the `math` package to calculate the square root. Catch ValueError and display the error message.\"\n",
        "* Take user input of the value, number1.\n",
        "* Test with negative numbers to validate error handling.\n",
        "```\n",
        "\n",
        "</details>\n"
      ]
    },
    {
      "cell_type": "markdown",
      "metadata": {
        "id": "41770fed-d726-4845-8ad4-c4a4929622fb"
      },
      "source": [
        "<details><summary>Click here for the solution</summary>\n",
        "\n",
        "```python\n",
        "import math\n",
        "\n",
        "def perform_calculation(number1):\n",
        "    try:\n",
        "        result = math.sqrt(number1)\n",
        "        print(f\"Result: {result}\")\n",
        "    except ValueError:\n",
        "        print(\"Error: Invalid input! Please enter a positive integer or a float value.\")\n",
        "# Test case\n",
        "number1=float(input(\"Enter the number:-\"))\n",
        "perform_calculation(number1)\n",
        "```\n",
        "\n",
        "**Note:- Test with different inputs to validate error handling.**\n",
        "\n",
        "</details>\n"
      ]
    },
    {
      "cell_type": "markdown",
      "metadata": {
        "id": "1ddbd858-fafc-4122-9011-4d4c255de08f"
      },
      "source": [
        "## Exercise 3: Handling Generic Exceptions\n"
      ]
    },
    {
      "cell_type": "markdown",
      "metadata": {
        "id": "3035bae2-8fc7-4c2e-9354-f0198c72afe4"
      },
      "source": [
        "Imagine you have a number and want to perform a complex mathematical task. The calculation requires dividing the value of the input argument `\"num\"` by the difference between `\"num\"` and 5, and the result has to be stored in a variable called `\"result\"`.\n",
        "\n",
        "You have to define a function so that it can perform that complex mathematical task. The function should handle any potential errors that occur during the calculation. To do this, you can use a try-except block. If any exception arises during the calculation, it should catch the error using the generic exception class `\"Exception\" as \"e\"`. When an exception occurs, the function should display `\"An error occurred during calculation.`\n"
      ]
    },
    {
      "cell_type": "code",
      "metadata": {
        "colab": {
          "base_uri": "https://localhost:8080/"
        },
        "id": "0edd8203-bf42-4c9d-beab-afc75878eaba",
        "outputId": "f195c940-071f-4547-cecc-141fb23ab42a"
      },
      "outputs": [
        {
          "output_type": "stream",
          "name": "stdout",
          "text": [
            "Please enter a number to divide a0\n",
            "The number you provided cant divide 1 because it is 0\n",
            "Processing Complete\n"
          ]
        }
      ],
      "source": [
        "#Type your code here\n",
        "a = 1\n",
        "\n",
        "try:\n",
        "    num = int(input(\"Please enter a number to divide a\"))\n",
        "    a = num/num-5\n",
        "except ZeroDivisionError:\n",
        "    print(\"The number you provided cant divide 1 because it is 0\")\n",
        "except ValueError:\n",
        "    print(\"You did not provide a number\")\n",
        "except:\n",
        "    print(\"Something went wrong\")\n",
        "else:\n",
        "    print(\"success a=\",a)\n",
        "finally:\n",
        "    print(\"Processing Complete\")"
      ],
      "execution_count": 14
    },
    {
      "cell_type": "markdown",
      "metadata": {
        "id": "2613cd67-f3d8-4c75-b753-629de2915c65"
      },
      "source": [
        "**Note:- Practice handling exceptions by trying different integers values (positive and negative) or float values (positive and negative).**\n"
      ]
    },
    {
      "cell_type": "markdown",
      "metadata": {
        "id": "52b0c116-75c5-4bc7-84e9-32d0d91688b7"
      },
      "source": [
        "<details><summary>Click here for the hints</summary>\n",
        "\n",
        "```python\n",
        "Follow these:-\n",
        "* Define a function for the complex calculation and pass any argument.\n",
        "* Use a try-except block for error handling.\n",
        "* Perform the calculation and store the result in \"result.\"\n",
        "* Catch any exceptions using Exception as e.\n",
        "* Display \"An error occurred during calculation.\" when an exception is caught.\n",
        "* take user input\n",
        "* Call the defined function with the user input\n",
        "**Note:- Test with different inputs to validate error handling.**\n",
        "```\n",
        "\n",
        "</details>\n"
      ]
    },
    {
      "cell_type": "markdown",
      "metadata": {
        "id": "e4295354-3409-455c-b078-788c2fcc3e4e"
      },
      "source": [
        "<details><summary>Click here for the solution</summary>\n",
        "\n",
        "```python\n",
        "def complex_calculation(num):\n",
        "    try:\n",
        "        result = num / (num - 5)\n",
        "        print (f\"Result: {result}\")\n",
        "    except Exception as e:\n",
        "        print(\"An error occurred during calculation.\")\n",
        "# Test case\n",
        "user_input = float(input(\"Enter a number: \"))\n",
        "complex_calculation(user_input)\n",
        "```\n",
        "\n",
        "</details>\n"
      ]
    },
    {
      "cell_type": "markdown",
      "metadata": {
        "id": "0e68dbbc-c102-4bcd-8ef8-6d3b954176f9"
      },
      "source": [
        "## Authors\n"
      ]
    },
    {
      "cell_type": "markdown",
      "metadata": {
        "id": "8680cee1-6f66-4b7c-9c40-a8f292ca83a5"
      },
      "source": [
        "<a href=\"https://www.linkedin.com/in/joseph-s-50398b136/\" target=\"_blank\">Joseph Santarcangelo</a>\n"
      ]
    },
    {
      "cell_type": "markdown",
      "metadata": {
        "id": "2e84c043-2334-4efd-b37e-bee6d2a0e71b"
      },
      "source": [
        "## <h3 align=\"center\"> © IBM Corporation 2023. All rights reserved. <h3/>\n",
        "\n",
        "<!-- ## Change Log\n",
        "\n",
        "|  Date (YYYY-MM-DD) |  Version | Changed By  |  Change Description |\n",
        "|---|---|---|---|\n",
        "| 2023-11-02 | 2.2 | Abhishek Gagneja | Updated instructions |\n",
        "| 2023-08-01 | 2.1   | Akansha Yadav | Added optional practice section |\n",
        "| 2020-09-02  | 2.0  | Simran | Template updates to the file|\n",
        "|   |   |   |   | --!>\n",
        "\n",
        "\n",
        "\n",
        "\n",
        "\n"
      ]
    },
    {
      "cell_type": "code",
      "metadata": {
        "id": "2111bb67-1f91-4111-bebf-f584d7ec8368"
      },
      "outputs": [],
      "source": [],
      "execution_count": null
    }
  ],
  "metadata": {
    "kernelspec": {
      "display_name": "Python",
      "language": "python",
      "name": "conda-env-python-py"
    },
    "language_info": {
      "name": "python",
      "version": "3.7.12",
      "mimetype": "text/x-python",
      "codemirror_mode": {
        "name": "ipython",
        "version": 3
      },
      "pygments_lexer": "ipython3",
      "nbconvert_exporter": "python",
      "file_extension": ".py"
    },
    "prev_pub_hash": "c1cb2674c1c250306fa65efe79cb13d365846edad816cdb9f05aa7bb69713f0c",
    "colab": {
      "provenance": []
    }
  },
  "nbformat": 4,
  "nbformat_minor": 0
}