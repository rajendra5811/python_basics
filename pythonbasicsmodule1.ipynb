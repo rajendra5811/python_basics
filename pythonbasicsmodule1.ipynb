{
  "nbformat": 4,
  "nbformat_minor": 0,
  "metadata": {
    "colab": {
      "provenance": []
    },
    "kernelspec": {
      "name": "python3",
      "display_name": "Python 3"
    },
    "language_info": {
      "name": "python"
    }
  },
  "cells": [
    {
      "cell_type": "code",
      "execution_count": null,
      "metadata": {
        "colab": {
          "base_uri": "https://localhost:8080/"
        },
        "id": "ICPaIZsB6pyK",
        "outputId": "14cd174c-3688-470c-be5f-71c21e067586"
      },
      "outputs": [
        {
          "output_type": "stream",
          "name": "stdout",
          "text": [
            "Hello, Python!\n"
          ]
        }
      ],
      "source": [
        "# Try your first Python output\n",
        "\n",
        "print('Hello, Python!')"
      ]
    },
    {
      "cell_type": "code",
      "source": [
        "# Check the Python Version\n",
        "\n",
        "import sys\n",
        "print(sys.version)"
      ],
      "metadata": {
        "colab": {
          "base_uri": "https://localhost:8080/"
        },
        "id": "KUjNtuLJ6-L-",
        "outputId": "5fd131bf-bb28-4651-933d-3eab91eb26f1"
      },
      "execution_count": null,
      "outputs": [
        {
          "output_type": "stream",
          "name": "stdout",
          "text": [
            "3.12.12 (main, Oct 10 2025, 08:52:57) [GCC 11.4.0]\n"
          ]
        }
      ]
    },
    {
      "cell_type": "code",
      "source": [
        "\n",
        "print('Hello, Python!') # This line prints a string\n",
        "# print(\"Hi\")"
      ],
      "metadata": {
        "colab": {
          "base_uri": "https://localhost:8080/"
        },
        "id": "fug_edNX7evo",
        "outputId": "48acd0e9-919a-4997-8d42-0e6d2c473511"
      },
      "execution_count": null,
      "outputs": [
        {
          "output_type": "stream",
          "name": "stdout",
          "text": [
            "Hello, Python!\n"
          ]
        }
      ]
    },
    {
      "cell_type": "code",
      "source": [
        "z=2+15\n",
        "print(z)"
      ],
      "metadata": {
        "colab": {
          "base_uri": "https://localhost:8080/"
        },
        "id": "4ArKJA0378pE",
        "outputId": "eca9c791-b2a2-46fc-a807-ed710164eea4"
      },
      "execution_count": null,
      "outputs": [
        {
          "output_type": "stream",
          "name": "stdout",
          "text": [
            "17\n"
          ]
        }
      ]
    },
    {
      "cell_type": "code",
      "source": [
        "# Addition operation expression\n",
        "43 + 60 + 16 + 41"
      ],
      "metadata": {
        "colab": {
          "base_uri": "https://localhost:8080/"
        },
        "id": "zDZvsN1U9ZBn",
        "outputId": "c11c633d-2861-4d81-d61e-cabfdeab9041"
      },
      "execution_count": null,
      "outputs": [
        {
          "output_type": "execute_result",
          "data": {
            "text/plain": [
              "160"
            ]
          },
          "metadata": {},
          "execution_count": 5
        }
      ]
    },
    {
      "cell_type": "code",
      "source": [
        "# Subtraction operation expression\n",
        "\n",
        "50 - 60"
      ],
      "metadata": {
        "colab": {
          "base_uri": "https://localhost:8080/"
        },
        "id": "KHnZjhUa_KwX",
        "outputId": "3d2be27a-f5a3-46e2-ce54-ebad1e3e349d"
      },
      "execution_count": null,
      "outputs": [
        {
          "output_type": "execute_result",
          "data": {
            "text/plain": [
              "-10"
            ]
          },
          "metadata": {},
          "execution_count": 6
        }
      ]
    },
    {
      "cell_type": "code",
      "source": [
        "# Multiplication operation expression\n",
        "\n",
        "5 * 5"
      ],
      "metadata": {
        "colab": {
          "base_uri": "https://localhost:8080/"
        },
        "id": "rVZWbpDT_Le1",
        "outputId": "f3c73e0e-ddcf-4756-dd7b-ba13104e4f8f"
      },
      "execution_count": null,
      "outputs": [
        {
          "output_type": "execute_result",
          "data": {
            "text/plain": [
              "25"
            ]
          },
          "metadata": {},
          "execution_count": 7
        }
      ]
    },
    {
      "cell_type": "code",
      "source": [
        "# Division operation expression\n",
        "\n",
        "25 / 5"
      ],
      "metadata": {
        "colab": {
          "base_uri": "https://localhost:8080/"
        },
        "id": "jARrC_OsCzBH",
        "outputId": "f0f3060b-d9a4-46bf-900a-b467e43ef09a"
      },
      "execution_count": null,
      "outputs": [
        {
          "output_type": "execute_result",
          "data": {
            "text/plain": [
              "5.0"
            ]
          },
          "metadata": {},
          "execution_count": 8
        }
      ]
    },
    {
      "cell_type": "code",
      "source": [
        "type(\"Hello,world\")"
      ],
      "metadata": {
        "colab": {
          "base_uri": "https://localhost:8080/"
        },
        "id": "ttWco1TUbVI2",
        "outputId": "d2b98eb0-6370-4f3f-9f4b-b4dd5f5fc1b1"
      },
      "execution_count": null,
      "outputs": [
        {
          "output_type": "execute_result",
          "data": {
            "text/plain": [
              "str"
            ]
          },
          "metadata": {},
          "execution_count": 9
        }
      ]
    },
    {
      "cell_type": "code",
      "source": [
        "# Write your code below. Don't forget to press Shift+Enter to execute the cell\n",
        "type(6//2)"
      ],
      "metadata": {
        "colab": {
          "base_uri": "https://localhost:8080/"
        },
        "id": "0zTheRb5bfjs",
        "outputId": "9b71a17f-ae67-42b8-efd4-093b5e720c6d"
      },
      "execution_count": null,
      "outputs": [
        {
          "output_type": "execute_result",
          "data": {
            "text/plain": [
              "int"
            ]
          },
          "metadata": {},
          "execution_count": 10
        }
      ]
    },
    {
      "cell_type": "code",
      "source": [
        "type(\"hello\"==\"world\")"
      ],
      "metadata": {
        "colab": {
          "base_uri": "https://localhost:8080/"
        },
        "id": "UwDQiqw6bn3G",
        "outputId": "e8b0d095-ab8d-4b36-a197-7404f25ab30f"
      },
      "execution_count": null,
      "outputs": [
        {
          "output_type": "execute_result",
          "data": {
            "text/plain": [
              "bool"
            ]
          },
          "metadata": {},
          "execution_count": 11
        }
      ]
    },
    {
      "cell_type": "code",
      "source": [
        "name = \"John\"\n",
        "age = 30\n",
        "print(f\"My name is {name} and I am {age} years old.\")"
      ],
      "metadata": {
        "colab": {
          "base_uri": "https://localhost:8080/"
        },
        "id": "nGFiY1mgduqK",
        "outputId": "6b52734a-fbc0-4413-a7f2-5d6dd7a10a2c"
      },
      "execution_count": null,
      "outputs": [
        {
          "output_type": "stream",
          "name": "stdout",
          "text": [
            "My name is John and I am 30 years old.\n"
          ]
        }
      ]
    },
    {
      "cell_type": "code",
      "source": [
        "#\\n,\\t,\\\\,r\"\""
      ],
      "metadata": {
        "id": "JjoGtZfUdutO"
      },
      "execution_count": null,
      "outputs": []
    },
    {
      "cell_type": "code",
      "source": [
        "print(name[0])"
      ],
      "metadata": {
        "colab": {
          "base_uri": "https://localhost:8080/"
        },
        "id": "oKL02_c0edcf",
        "outputId": "88188ada-9578-401f-e590-bb0f8ef9ac0d"
      },
      "execution_count": null,
      "outputs": [
        {
          "output_type": "stream",
          "name": "stdout",
          "text": [
            "J\n"
          ]
        }
      ]
    },
    {
      "cell_type": "code",
      "source": [
        "print(name[-1])"
      ],
      "metadata": {
        "colab": {
          "base_uri": "https://localhost:8080/"
        },
        "id": "3Lf0HOtEduw3",
        "outputId": "12863fa2-ef5f-4382-b079-cd4882c581be"
      },
      "execution_count": null,
      "outputs": [
        {
          "output_type": "stream",
          "name": "stdout",
          "text": [
            "n\n"
          ]
        }
      ]
    },
    {
      "cell_type": "code",
      "source": [
        "len(\"The BodyGuard\")"
      ],
      "metadata": {
        "colab": {
          "base_uri": "https://localhost:8080/"
        },
        "id": "eUw_bdbNfMV8",
        "outputId": "dc61e120-6f06-465c-a1e3-19d8653679bd"
      },
      "execution_count": null,
      "outputs": [
        {
          "output_type": "execute_result",
          "data": {
            "text/plain": [
              "13"
            ]
          },
          "metadata": {},
          "execution_count": 17
        }
      ]
    },
    {
      "cell_type": "code",
      "source": [
        "# Get every second element, starting with the index 0. The elments on index 0, 2, 4 ...\n",
        "\n",
        "name[::2]"
      ],
      "metadata": {
        "colab": {
          "base_uri": "https://localhost:8080/",
          "height": 36
        },
        "id": "zQhyZxkwfhc7",
        "outputId": "2cf71ec7-812c-49f1-b56d-b110d1f9acff"
      },
      "execution_count": null,
      "outputs": [
        {
          "output_type": "execute_result",
          "data": {
            "text/plain": [
              "'Jh'"
            ],
            "application/vnd.google.colaboratory.intrinsic+json": {
              "type": "string"
            }
          },
          "metadata": {},
          "execution_count": 19
        }
      ]
    },
    {
      "cell_type": "code",
      "source": [
        "name[0:4]"
      ],
      "metadata": {
        "colab": {
          "base_uri": "https://localhost:8080/",
          "height": 36
        },
        "id": "csncaPr8fYO2",
        "outputId": "f53ad7b2-eeac-4b1d-d591-2b598643d933"
      },
      "execution_count": null,
      "outputs": [
        {
          "output_type": "execute_result",
          "data": {
            "text/plain": [
              "'John'"
            ],
            "application/vnd.google.colaboratory.intrinsic+json": {
              "type": "string"
            }
          },
          "metadata": {},
          "execution_count": 18
        }
      ]
    },
    {
      "cell_type": "code",
      "source": [
        "# Get every second element in the range from index 0 to index 4\n",
        "\n",
        "name[0:5:2]"
      ],
      "metadata": {
        "colab": {
          "base_uri": "https://localhost:8080/",
          "height": 36
        },
        "id": "FZXwzY12foOo",
        "outputId": "d050a7ba-607c-45df-9945-58e59675c23d"
      },
      "execution_count": null,
      "outputs": [
        {
          "output_type": "execute_result",
          "data": {
            "text/plain": [
              "'Jh'"
            ],
            "application/vnd.google.colaboratory.intrinsic+json": {
              "type": "string"
            }
          },
          "metadata": {},
          "execution_count": 20
        }
      ]
    },
    {
      "cell_type": "code",
      "source": [
        "# Print the string for 3 times\n",
        "\n",
        "3 * \"The BodyGuard\""
      ],
      "metadata": {
        "colab": {
          "base_uri": "https://localhost:8080/",
          "height": 36
        },
        "id": "WcbsxmNUfygV",
        "outputId": "a307d353-9169-4eb3-d1ed-9297a388eb37"
      },
      "execution_count": null,
      "outputs": [
        {
          "output_type": "execute_result",
          "data": {
            "text/plain": [
              "'The BodyGuardThe BodyGuardThe BodyGuard'"
            ],
            "application/vnd.google.colaboratory.intrinsic+json": {
              "type": "string"
            }
          },
          "metadata": {},
          "execution_count": 21
        }
      ]
    },
    {
      "cell_type": "code",
      "source": [
        "# r will tell python that string will be display as raw string\n",
        "\n",
        "print(r\" The BodyGuard \\ is the best album\" )"
      ],
      "metadata": {
        "colab": {
          "base_uri": "https://localhost:8080/"
        },
        "id": "G3ucMGahf9J4",
        "outputId": "653cb814-5419-4836-efc2-f8d66a1bba64"
      },
      "execution_count": null,
      "outputs": [
        {
          "output_type": "stream",
          "name": "stdout",
          "text": [
            " The BodyGuard \\ is the best album\n"
          ]
        }
      ]
    },
    {
      "cell_type": "code",
      "source": [
        "a = \"The BodyGuard is the best album\"\n",
        "b = a.replace('BodyGuard', 'Janet')\n",
        "b"
      ],
      "metadata": {
        "colab": {
          "base_uri": "https://localhost:8080/",
          "height": 36
        },
        "id": "GEdtKyRagHb-",
        "outputId": "0909ab13-5faf-471f-a594-58694a425cf0"
      },
      "execution_count": null,
      "outputs": [
        {
          "output_type": "execute_result",
          "data": {
            "text/plain": [
              "'The Janet is the best album'"
            ],
            "application/vnd.google.colaboratory.intrinsic+json": {
              "type": "string"
            }
          },
          "metadata": {},
          "execution_count": 23
        }
      ]
    },
    {
      "cell_type": "markdown",
      "source": [
        "\\d\tMatches any digit character (0-9)\t\"123\" matches \"\\d\\d\\d\"\n",
        "\\D\tMatches any non-digit character\t\"hello\" matches \"\\D\\D\\D\\D\\D\"\n",
        "\\w\tMatches any word character (a-z, A-Z, 0-9, and _)\t\"hello_world\" matches \"\\w\\w\\w\\w\\w\\w\\w\\w\\w\\w\\w\"\n",
        "\\W\tMatches any non-word character\t\"@#$%\" matches \"\\W\\W\\W\\W\"\n",
        "\\s\tMatches any whitespace character (space, tab, newline, etc.)\t\"hello world\" matches \"\\w\\w\\w\\w\\w\\s\\w\\w\\w\\w\\w\"\n",
        "\\S\tMatches any non-whitespace character\t\"hello_world\" matches \"\\S\\S\\S\\S\\S\\S\\S\\S\\S\\S\\S\"\n",
        "\\b\tMatches the boundary between a word character and a non-word character\t\"cat\" matches \"\\bcat\\b\" in \"The cat sat on the mat\"\n",
        "\\B\tMatches any position that is not a word boundary\t\"cat\" matches \"\\Bcat\\B\" in \"category\" but not in \"The cat sat on the mat\""
      ],
      "metadata": {
        "id": "FHewaz1BgfNL"
      }
    },
    {
      "cell_type": "code",
      "source": [
        "import re\n",
        "s1 = \"The BodyGuard is the best album\"\n",
        "\n",
        "# Define the pattern to search for\n",
        "pattern = r\"Body\"\n",
        "\n",
        "# Use the search() function to search for the pattern in the string\n",
        "result = re.search(pattern, s1)\n",
        "\n",
        "# Check if a match was found\n",
        "if result:\n",
        "    print(\"Match found!\")\n",
        "else:\n",
        "    print(\"Match not found.\")"
      ],
      "metadata": {
        "colab": {
          "base_uri": "https://localhost:8080/"
        },
        "id": "aHxrWWb6gXG2",
        "outputId": "26353708-82a0-48d4-c581-c7d6e0e4555e"
      },
      "execution_count": null,
      "outputs": [
        {
          "output_type": "stream",
          "name": "stdout",
          "text": [
            "Match found!\n"
          ]
        }
      ]
    },
    {
      "cell_type": "code",
      "source": [
        "pattern = r\"\\W\"  # Matches any non-word character\n",
        "text = \"Hello, world!\"\n",
        "matches = re.findall(pattern, text)\n",
        "\n",
        "print(\"Matches:\", matches)"
      ],
      "metadata": {
        "colab": {
          "base_uri": "https://localhost:8080/"
        },
        "id": "NJosVQ7fg7pf",
        "outputId": "ac8fabbc-1a36-4d72-9955-6400a44a7f6a"
      },
      "execution_count": null,
      "outputs": [
        {
          "output_type": "stream",
          "name": "stdout",
          "text": [
            "Matches: [',', ' ', '!']\n"
          ]
        }
      ]
    },
    {
      "cell_type": "code",
      "source": [
        "s2 = \"The BodyGuard is the best album of 'Whitney Houston'.\"\n",
        "\n",
        "\n",
        "# Use the findall() function to find all occurrences of the \"st\" in the string\n",
        "result = re.findall(\"st\", s2)\n",
        "\n",
        "# Print out the list of matched words\n",
        "print(result)\n"
      ],
      "metadata": {
        "colab": {
          "base_uri": "https://localhost:8080/"
        },
        "id": "PDvEBbbohDf3",
        "outputId": "fd4eafa1-3c0b-4742-decd-0271a1707061"
      },
      "execution_count": null,
      "outputs": [
        {
          "output_type": "stream",
          "name": "stdout",
          "text": [
            "['st', 'st']\n"
          ]
        }
      ]
    },
    {
      "cell_type": "code",
      "source": [
        "# Use the split function to split the string by the \"\\s\"\n",
        "split_array = re.split(r\"\\s\", s2)\n",
        "\n",
        "# The split_array contains all the substrings, split by whitespace characters\n",
        "print(split_array)"
      ],
      "metadata": {
        "colab": {
          "base_uri": "https://localhost:8080/"
        },
        "id": "xuqi2gQehGNf",
        "outputId": "a87eef64-aaea-46fe-8943-7bea0494f4fa"
      },
      "execution_count": null,
      "outputs": [
        {
          "output_type": "stream",
          "name": "stdout",
          "text": [
            "['The', 'BodyGuard', 'is', 'the', 'best', 'album', 'of', \"'Whitney\", \"Houston'.\"]\n"
          ]
        }
      ]
    },
    {
      "cell_type": "code",
      "source": [
        "import re\n",
        "str1= \"The quick brown fox jumps over the lazy dog.\"\n",
        "\n",
        "# Write your code below and press Shift+Enter to execute\n",
        "# Use re.sub() to replace \"fox\" with \"bear\"\n",
        "new_str1 = re.sub(r\"fox\", \"bear\", str1)\n",
        "\n",
        "print(new_str1)"
      ],
      "metadata": {
        "colab": {
          "base_uri": "https://localhost:8080/"
        },
        "id": "ifoDXZVBoGUu",
        "outputId": "878a1a69-52f4-4d8b-e4a6-b662b7cfdafe"
      },
      "execution_count": null,
      "outputs": [
        {
          "output_type": "stream",
          "name": "stdout",
          "text": [
            "The quick brown bear jumps over the lazy dog.\n"
          ]
        }
      ]
    },
    {
      "cell_type": "code",
      "source": [
        "s3 = \"House number- 1105\"\n",
        "# Write your code below and press Shift+Enter to execute\n",
        "result = re.search(r\"\\d\", s3)\n",
        "\n",
        "# Check if a match was found\n",
        "if result:\n",
        "    print(\"Digit found\")\n",
        "else:\n",
        "    print(\"Digit not found.\")"
      ],
      "metadata": {
        "colab": {
          "base_uri": "https://localhost:8080/"
        },
        "id": "CsA9hMIJn2T3",
        "outputId": "290a93bc-c80d-405e-97ef-26d425c0e452"
      },
      "execution_count": null,
      "outputs": [
        {
          "output_type": "stream",
          "name": "stdout",
          "text": [
            "Digit found\n"
          ]
        }
      ]
    },
    {
      "cell_type": "code",
      "source": [
        "# Define the regular expression pattern to search for\n",
        "pattern = r\"Whitney Houston\"\n",
        "\n",
        "# Define the replacement string\n",
        "replacement = \"legend\"\n",
        "\n",
        "# Use the sub function to replace the pattern with the replacement string\n",
        "new_string = re.sub(pattern, replacement, s2, flags=re.IGNORECASE) # re.IGNORECASE makes the search case-insensitive, so it matches \"Whitney Houston\" in any letter case\n",
        "\n",
        "# The new_string contains the original string with the pattern replaced by the replacement string\n",
        "print(new_string)"
      ],
      "metadata": {
        "colab": {
          "base_uri": "https://localhost:8080/"
        },
        "id": "6EQU-WUnhZrS",
        "outputId": "3d23d7f4-7a22-4008-9ee9-2047ae1a1277"
      },
      "execution_count": null,
      "outputs": [
        {
          "output_type": "stream",
          "name": "stdout",
          "text": [
            "The BodyGuard is the best album of 'legend'.\n"
          ]
        }
      ]
    },
    {
      "cell_type": "code",
      "source": [
        "import re\n",
        "str2= \"How much wood would a woodchuck chuck, if a woodchuck could chuck wood?\"\n",
        "\n",
        "# Write your code below and press Shift+Enter to execute\n",
        "# Use re.findall() to find all occurrences of \"woo\"\n",
        "matches = re.findall(r\"woo\", str2)\n",
        "\n",
        "print(matches)"
      ],
      "metadata": {
        "colab": {
          "base_uri": "https://localhost:8080/"
        },
        "id": "RSz546gToPKr",
        "outputId": "64c988c8-ed5b-4778-f5d0-995b034917b4"
      },
      "execution_count": null,
      "outputs": [
        {
          "output_type": "stream",
          "name": "stdout",
          "text": [
            "['woo', 'woo', 'woo', 'woo']\n"
          ]
        }
      ]
    },
    {
      "cell_type": "code",
      "source": [],
      "metadata": {
        "id": "Dix7T9hooP7x"
      },
      "execution_count": null,
      "outputs": []
    }
  ]
}