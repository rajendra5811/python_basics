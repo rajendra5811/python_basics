{
  "cells": [
    {
      "cell_type": "markdown",
      "metadata": {
        "id": "b00d9937-2637-49c4-a8a1-4a57839cdc29"
      },
      "source": [
        "<p style=\"text-align:center\">\n",
        "    <a href=\"https://skills.network\" target=\"_blank\">\n",
        "    <img src=\"https://cf-courses-data.s3.us.cloud-object-storage.appdomain.cloud/assets/logos/SN_web_lightmode.png\" width=\"300\" alt=\"Skills Network Logo\">\n",
        "    </a>\n",
        "</p>\n",
        "\n",
        "\n",
        "# Working with Variables and Expressions in Python\n",
        "\n",
        "\n",
        "Estimated time needed: **10** minutes\n",
        "    \n",
        "\n",
        "## Objectives\n",
        "\n",
        "After completing this lab you will be able to:\n",
        "\n",
        "* Use expressions and variables to perform operations\n"
      ]
    },
    {
      "cell_type": "markdown",
      "metadata": {
        "id": "569f9453-2fc4-46ac-85d0-5400e663ad89"
      },
      "source": [
        "<h2>Table of Contents</h2>\n",
        "<div class=\"alert alert-block alert-info\" style=\"margin-top: 20px\">\n",
        "    <ul>\n",
        "        <li>\n",
        "            <a href=\"#Expressions-and-Variables\">Expressions and Variables</a>\n",
        "            <ul>\n",
        "                <li><a href=\"#Expressions\">Expressions</a></li>\n",
        "                <li><a href=\"#Exercise:-Expressions\">Exercise: Expressions</a></li>\n",
        "                <li><a href=\"#Variables\">Variables</a></li>\n",
        "                <li><a href=\"#Exercise:-Expression-and-Variables-in-Python\">Exercise: Expression and Variables in Python</a></li>\n",
        "            </ul>\n",
        "        </li>\n",
        "    </ul>\n",
        "</div>\n",
        "\n",
        "<hr>\n"
      ]
    },
    {
      "cell_type": "markdown",
      "metadata": {
        "id": "dbff522c-7814-49c0-8361-cc2d74c4f889"
      },
      "source": [
        "## Expressions and Variables\n"
      ]
    },
    {
      "cell_type": "markdown",
      "metadata": {
        "id": "4544e323-7b0b-454c-9073-545ff35119cd"
      },
      "source": [
        "### Expressions\n"
      ]
    },
    {
      "cell_type": "markdown",
      "metadata": {
        "id": "124df50c-5cba-48a9-b8e0-24dce4bcfce8"
      },
      "source": [
        "<p>Expressions in Python can include operations among compatible types (e.g., integers and floats). For example, basic arithmetic operations like adding multiple numbers:</p>\n"
      ]
    },
    {
      "cell_type": "code",
      "metadata": {
        "colab": {
          "base_uri": "https://localhost:8080/"
        },
        "id": "03502095-0b15-449b-8271-fbd170050ab4",
        "outputId": "849ed13f-3990-436d-b324-affda098758c"
      },
      "outputs": [
        {
          "output_type": "execute_result",
          "data": {
            "text/plain": [
              "160"
            ]
          },
          "metadata": {},
          "execution_count": 1
        }
      ],
      "source": [
        "# Addition operation expression\n",
        "\n",
        "43 + 60 + 16 + 41"
      ],
      "execution_count": 1
    },
    {
      "cell_type": "markdown",
      "metadata": {
        "id": "df1741d8-2b88-4740-8dd7-e1587185af1a"
      },
      "source": [
        "<p>We can perform subtraction operations using the minus operator. In this case the result is a negative number:</p>\n"
      ]
    },
    {
      "cell_type": "code",
      "metadata": {
        "colab": {
          "base_uri": "https://localhost:8080/"
        },
        "id": "b9922df5-1f1a-42f3-84f3-097bf217a1c3",
        "outputId": "ec4c351e-da3a-430f-eaf9-6e55bf3ad862"
      },
      "outputs": [
        {
          "output_type": "execute_result",
          "data": {
            "text/plain": [
              "-10"
            ]
          },
          "metadata": {},
          "execution_count": 2
        }
      ],
      "source": [
        "# Subtraction operation expression\n",
        "\n",
        "50 - 60"
      ],
      "execution_count": 2
    },
    {
      "cell_type": "markdown",
      "metadata": {
        "id": "c3e0ddfd-3a57-4ba1-8438-fd26d0dc79b8"
      },
      "source": [
        "<p>We can do multiplication using an asterisk:</p>\n"
      ]
    },
    {
      "cell_type": "code",
      "metadata": {
        "colab": {
          "base_uri": "https://localhost:8080/"
        },
        "id": "ffc31140-d992-4478-b4eb-32b162c5a0ae",
        "outputId": "1c24a26f-1125-4070-e200-de1e58a735f4"
      },
      "outputs": [
        {
          "output_type": "execute_result",
          "data": {
            "text/plain": [
              "25"
            ]
          },
          "metadata": {},
          "execution_count": 3
        }
      ],
      "source": [
        "# Multiplication operation expression\n",
        "\n",
        "5 * 5"
      ],
      "execution_count": 3
    },
    {
      "cell_type": "markdown",
      "metadata": {
        "id": "83d870a6-0bcd-456d-9f6d-139669446034"
      },
      "source": [
        "<p>We can also perform division with the forward slash:\n"
      ]
    },
    {
      "cell_type": "code",
      "metadata": {
        "colab": {
          "base_uri": "https://localhost:8080/"
        },
        "id": "846a7a04-ee33-49a1-aafe-d986f91c06eb",
        "outputId": "fbf1c86e-5982-4d19-95aa-a58b4d7eab50"
      },
      "outputs": [
        {
          "output_type": "execute_result",
          "data": {
            "text/plain": [
              "5.0"
            ]
          },
          "metadata": {},
          "execution_count": 4
        }
      ],
      "source": [
        "# Division operation expression\n",
        "\n",
        "25 / 5"
      ],
      "execution_count": 4
    },
    {
      "cell_type": "code",
      "metadata": {
        "colab": {
          "base_uri": "https://localhost:8080/"
        },
        "id": "3b5a60c2-62d4-4a9e-8a55-dbdc65794bc7",
        "outputId": "b13ef413-bf26-49ae-9439-27d170bc9be3"
      },
      "outputs": [
        {
          "output_type": "execute_result",
          "data": {
            "text/plain": [
              "4.166666666666667"
            ]
          },
          "metadata": {},
          "execution_count": 5
        }
      ],
      "source": [
        "# Division operation expression\n",
        "\n",
        "25 / 6"
      ],
      "execution_count": 5
    },
    {
      "cell_type": "markdown",
      "metadata": {
        "id": "c5d0c2b6-1a91-4c94-8a59-c4c1a82a8d61"
      },
      "source": [
        "<p>As seen in the quiz above, we can use the double slash for integer division, where the result is rounded down to the nearest integer:\n"
      ]
    },
    {
      "cell_type": "code",
      "metadata": {
        "colab": {
          "base_uri": "https://localhost:8080/"
        },
        "id": "e1d1cd89-70da-493d-a3e4-630145a44765",
        "outputId": "06dada67-adfb-4948-94b6-76dd9c1a5b04"
      },
      "outputs": [
        {
          "output_type": "execute_result",
          "data": {
            "text/plain": [
              "5"
            ]
          },
          "metadata": {},
          "execution_count": 6
        }
      ],
      "source": [
        "# Integer division operation expression\n",
        "\n",
        "25 // 5"
      ],
      "execution_count": 6
    },
    {
      "cell_type": "code",
      "metadata": {
        "colab": {
          "base_uri": "https://localhost:8080/"
        },
        "id": "21a46cea-2cd9-473d-8684-bddc22ad43df",
        "outputId": "0e45c0b8-88b0-471b-ec8e-d613e45109f5"
      },
      "outputs": [
        {
          "output_type": "execute_result",
          "data": {
            "text/plain": [
              "4"
            ]
          },
          "metadata": {},
          "execution_count": 7
        }
      ],
      "source": [
        "# Integer division operation expression\n",
        "\n",
        "25 // 6"
      ],
      "execution_count": 7
    },
    {
      "cell_type": "markdown",
      "metadata": {
        "id": "0936344b-0367-4cb9-806e-77f32175ce4a"
      },
      "source": [
        "<p>Let's write an expression that calculates how many hours there are in 160 minutes:\n"
      ]
    },
    {
      "cell_type": "code",
      "metadata": {
        "colab": {
          "base_uri": "https://localhost:8080/"
        },
        "id": "4e06df49-d18b-4b8d-8173-3982847c9965",
        "outputId": "e8196a90-42d5-4af5-8c55-32e2a21cd3b9"
      },
      "outputs": [
        {
          "output_type": "execute_result",
          "data": {
            "text/plain": [
              "2"
            ]
          },
          "metadata": {},
          "execution_count": 8
        }
      ],
      "source": [
        "# Write your code below. Don't forget to press Shift+Enter to execute the cell\n",
        "160//60"
      ],
      "execution_count": 8
    },
    {
      "cell_type": "markdown",
      "metadata": {
        "id": "abd3424a-ef03-4c17-b9a9-df2645e4c22d"
      },
      "source": [
        "<p>Python follows well accepted mathematical conventions when evaluating mathematical expressions. In the following example, Python adds 30 to the result of the multiplication (i.e., 120).\n"
      ]
    },
    {
      "cell_type": "code",
      "metadata": {
        "colab": {
          "base_uri": "https://localhost:8080/"
        },
        "id": "a9cc2eeb-0d1c-4b65-90e0-6c4cdc8424f3",
        "outputId": "ba4f8c1c-ba71-495e-c942-40ca89730193"
      },
      "outputs": [
        {
          "output_type": "execute_result",
          "data": {
            "text/plain": [
              "150"
            ]
          },
          "metadata": {},
          "execution_count": 9
        }
      ],
      "source": [
        "# Mathematical expression\n",
        "\n",
        "30 + 2 * 60"
      ],
      "execution_count": 9
    },
    {
      "cell_type": "markdown",
      "metadata": {
        "id": "4120ef1c-5038-40ec-9ee3-1c70fbd34383"
      },
      "source": [
        "<p>And just like mathematics, expressions enclosed in parentheses have priority. So the following multiplies 32 by 60.\n"
      ]
    },
    {
      "cell_type": "code",
      "metadata": {
        "colab": {
          "base_uri": "https://localhost:8080/"
        },
        "id": "7b587d17-0b46-466f-b55a-35691db3ce14",
        "outputId": "879b010d-1926-444a-dafd-fb38379e448b"
      },
      "outputs": [
        {
          "output_type": "execute_result",
          "data": {
            "text/plain": [
              "1920"
            ]
          },
          "metadata": {},
          "execution_count": 10
        }
      ],
      "source": [
        "# Mathematical expression\n",
        "\n",
        "(30 + 2) * 60"
      ],
      "execution_count": 10
    },
    {
      "cell_type": "markdown",
      "metadata": {
        "id": "7a11f503-d799-4a15-9d85-11207aaf7ea2"
      },
      "source": [
        "### Variables\n"
      ]
    },
    {
      "cell_type": "markdown",
      "metadata": {
        "id": "a8a8b8d8-39c0-49d7-9a70-55be1b41c2be"
      },
      "source": [
        "<p>Just like with most programming languages, we can store values in <i>variables</i>, so we can use them later on. For example:</p>\n"
      ]
    },
    {
      "cell_type": "code",
      "metadata": {
        "id": "e7f1738e-424f-41ee-b19f-8781d2e99e1f"
      },
      "outputs": [],
      "source": [
        "# Store value into variable\n",
        "\n",
        "x = 43 + 60 + 16 + 41"
      ],
      "execution_count": 11
    },
    {
      "cell_type": "markdown",
      "metadata": {
        "id": "40613b4c-4800-4029-9d96-d415102935cf"
      },
      "source": [
        "<p>To see the value of <code>x</code> in a Notebook, we can simply place it on the last line of a cell:</p>\n"
      ]
    },
    {
      "cell_type": "code",
      "metadata": {
        "colab": {
          "base_uri": "https://localhost:8080/"
        },
        "id": "51f4c73e-4abc-43e6-9a60-14e7479f54f5",
        "outputId": "4b4eb47e-a23f-424a-de49-a1626c98c4b5"
      },
      "outputs": [
        {
          "output_type": "execute_result",
          "data": {
            "text/plain": [
              "160"
            ]
          },
          "metadata": {},
          "execution_count": 12
        }
      ],
      "source": [
        "# Print out the value in variable\n",
        "\n",
        "x"
      ],
      "execution_count": 12
    },
    {
      "cell_type": "markdown",
      "metadata": {
        "id": "9add8824-634c-4a15-9ed3-a8fab42cb7ae"
      },
      "source": [
        "<p>We can also perform operations on <code>x</code> and save the result to a new variable:</p>\n"
      ]
    },
    {
      "cell_type": "code",
      "metadata": {
        "colab": {
          "base_uri": "https://localhost:8080/"
        },
        "id": "2a3bd188-80b6-4299-9e8e-66094372f801",
        "outputId": "79e16167-5e5e-4f04-f0b7-6fe10af76f4d"
      },
      "outputs": [
        {
          "output_type": "execute_result",
          "data": {
            "text/plain": [
              "2.6666666666666665"
            ]
          },
          "metadata": {},
          "execution_count": 13
        }
      ],
      "source": [
        "# Use another variable to store the result of the operation between variable and value\n",
        "\n",
        "y = x / 60\n",
        "y"
      ],
      "execution_count": 13
    },
    {
      "cell_type": "markdown",
      "metadata": {
        "id": "be370900-9486-4e40-84f5-cda77b1881dd"
      },
      "source": [
        "<p>If we save a value to an existing variable, the new value will overwrite the previous value:</p>\n"
      ]
    },
    {
      "cell_type": "code",
      "metadata": {
        "colab": {
          "base_uri": "https://localhost:8080/"
        },
        "id": "ce77c933-0b2b-4e8a-bfac-319cefd798c8",
        "outputId": "54bd0d16-ca70-45b7-887a-808d34104a72"
      },
      "outputs": [
        {
          "output_type": "execute_result",
          "data": {
            "text/plain": [
              "2.6666666666666665"
            ]
          },
          "metadata": {},
          "execution_count": 14
        }
      ],
      "source": [
        "# Overwrite variable with new value\n",
        "\n",
        "x = x / 60\n",
        "x"
      ],
      "execution_count": 14
    },
    {
      "cell_type": "markdown",
      "metadata": {
        "id": "a46c0466-86ca-42d8-8cb2-40ccd3321927"
      },
      "source": [
        "<p>It's a good practice to use meaningful variable names, so you and others can read the code and understand it more easily:</p>\n"
      ]
    },
    {
      "cell_type": "code",
      "metadata": {
        "colab": {
          "base_uri": "https://localhost:8080/"
        },
        "id": "f078bb77-8a75-4af6-9325-0fc8f3844f46",
        "outputId": "c8917a68-13f1-4a7c-afa6-0803df11d880"
      },
      "outputs": [
        {
          "output_type": "execute_result",
          "data": {
            "text/plain": [
              "142"
            ]
          },
          "metadata": {},
          "execution_count": 15
        }
      ],
      "source": [
        "# Name the variables meaningfully\n",
        "\n",
        "total_min = 43 + 42 + 57 # Total length of albums in minutes\n",
        "total_min"
      ],
      "execution_count": 15
    },
    {
      "cell_type": "code",
      "metadata": {
        "colab": {
          "base_uri": "https://localhost:8080/"
        },
        "id": "9e0e851a-4054-4d48-b3eb-4ac5b6c37d2a",
        "outputId": "539ab916-e80e-44cb-8809-d5f7c0a93ef5"
      },
      "outputs": [
        {
          "output_type": "execute_result",
          "data": {
            "text/plain": [
              "2.3666666666666667"
            ]
          },
          "metadata": {},
          "execution_count": 16
        }
      ],
      "source": [
        "# Name the variables meaningfully\n",
        "\n",
        "total_hours = total_min / 60 # Total length of albums in hours\n",
        "total_hours"
      ],
      "execution_count": 16
    },
    {
      "cell_type": "markdown",
      "metadata": {
        "id": "ab4eac27-f787-4c7c-869d-7785fce9f38d"
      },
      "source": [
        "<p>In the cells above we added the length of three albums in minutes and stored it in <code>total_min</code>. We then divided it by 60 to calculate total length <code>total_hours</code> in hours. You can also do it all at once in a single expression, as long as you use parenthesis to add the albums length before you divide, as shown below.</p>\n"
      ]
    },
    {
      "cell_type": "code",
      "metadata": {
        "colab": {
          "base_uri": "https://localhost:8080/"
        },
        "id": "5960d098-02e7-4368-9f3c-3eb80dfcf8fc",
        "outputId": "d8207b5a-52be-4a75-b5cd-dac044aa3fc8"
      },
      "outputs": [
        {
          "output_type": "execute_result",
          "data": {
            "text/plain": [
              "2.3666666666666667"
            ]
          },
          "metadata": {},
          "execution_count": 17
        }
      ],
      "source": [
        "# Complicate expression\n",
        "\n",
        "total_hours = (43 + 42 + 57) / 60  # Total hours in a single expression\n",
        "total_hours"
      ],
      "execution_count": 17
    },
    {
      "cell_type": "markdown",
      "metadata": {
        "id": "22e70d15-112a-43db-a9ef-8efd755c5f9b"
      },
      "source": [
        "<p>If you'd rather have total hours as an integer, you can of course replace the floating point division with integer division (i.e., <code>//</code>).</p>\n"
      ]
    },
    {
      "cell_type": "markdown",
      "metadata": {
        "id": "6f96c463-b783-45d6-9c73-570426adfaff"
      },
      "source": [
        "### Exercise: Expressions in Python\n"
      ]
    },
    {
      "cell_type": "markdown",
      "metadata": {
        "id": "a778824d-5a52-47bb-986b-63fa96e3a2ed"
      },
      "source": [
        "Write an expression to add 30 and 20 and subtract 40\n"
      ]
    },
    {
      "cell_type": "code",
      "metadata": {
        "colab": {
          "base_uri": "https://localhost:8080/"
        },
        "id": "02df8ff3-2ed9-4399-a58c-878ba70a0473",
        "outputId": "b5c1aa86-cc52-4913-bc4e-d6a306b0b915"
      },
      "outputs": [
        {
          "output_type": "execute_result",
          "data": {
            "text/plain": [
              "10"
            ]
          },
          "metadata": {},
          "execution_count": 18
        }
      ],
      "source": [
        "# Write your code below. Don't forget to press Shift+Enter to execute the cell\n",
        "x=30+20-40\n",
        "x"
      ],
      "execution_count": 18
    },
    {
      "cell_type": "markdown",
      "metadata": {
        "id": "e74007a8-c767-4884-a4a8-43bf9f06159e"
      },
      "source": [
        "<details><summary>Click here for the solution</summary>\n",
        "\n",
        "```python\n",
        "30+20-40\n",
        "# This will print 10\n",
        "\n",
        "```\n",
        "\n",
        "</details>\n"
      ]
    },
    {
      "cell_type": "markdown",
      "metadata": {
        "id": "ba3dba6e-69ec-4ab5-b412-4e1164b9acaa"
      },
      "source": [
        "Write an expression to subtract 5 from 55 and divide the result by 10\n"
      ]
    },
    {
      "cell_type": "code",
      "metadata": {
        "colab": {
          "base_uri": "https://localhost:8080/"
        },
        "id": "02c01947-e3a8-4f90-9bb5-57562b3d8a42",
        "outputId": "12bccec5-5a20-4721-eb27-4bacaa54aac3"
      },
      "outputs": [
        {
          "output_type": "execute_result",
          "data": {
            "text/plain": [
              "54.5"
            ]
          },
          "metadata": {},
          "execution_count": 19
        }
      ],
      "source": [
        "# Write your code below. Don't forget to press Shift+Enter to execute the cell\n",
        "x=55-5/10\n",
        "x"
      ],
      "execution_count": 19
    },
    {
      "cell_type": "markdown",
      "metadata": {
        "id": "9ae9afb8-d1f7-4784-ae6a-15b6a9e913ac"
      },
      "source": [
        "<details><summary>Click here for the solution</summary>\n",
        "\n",
        "```python\n",
        "(55-5)/10\n",
        "# This will print 5.0\n",
        "\n",
        "```\n",
        "\n",
        "</details>\n"
      ]
    },
    {
      "cell_type": "markdown",
      "metadata": {
        "id": "d43eb47d-0744-4018-9c32-e3a3662d4d5f"
      },
      "source": [
        "Write an expression to multiply 6 with 10 and divide the result by 12\n"
      ]
    },
    {
      "cell_type": "code",
      "metadata": {
        "colab": {
          "base_uri": "https://localhost:8080/"
        },
        "id": "c182c909-13e5-42f1-a2de-0c1c0e0b8e60",
        "outputId": "254ec181-3586-4f00-ed50-e0b2569b4ddd"
      },
      "outputs": [
        {
          "output_type": "execute_result",
          "data": {
            "text/plain": [
              "5.0"
            ]
          },
          "metadata": {},
          "execution_count": 20
        }
      ],
      "source": [
        "# Write your code below. Don't forget to press Shift+Enter to execute the cell\n",
        "x=(6*10)/12\n",
        "x"
      ],
      "execution_count": 20
    },
    {
      "cell_type": "markdown",
      "metadata": {
        "id": "952ffcca-6e78-4476-938a-d72eb4b2803c"
      },
      "source": [
        "<details><summary>Click here for the solution</summary>\n",
        "\n",
        "```python\n",
        "(6*10)/12\n",
        "# This will print 5.0\n",
        "\n",
        "```\n",
        "\n",
        "</details>\n"
      ]
    },
    {
      "cell_type": "markdown",
      "metadata": {
        "id": "7aa8d9d8-6020-44a2-b410-2a65fd66a0c7"
      },
      "source": [
        "### Exercise:Variables in Python\n"
      ]
    },
    {
      "cell_type": "markdown",
      "metadata": {
        "id": "e1e907e5-94c6-4261-bb06-375849676997"
      },
      "source": [
        "<p>What is the value of <code>x</code> where <code>x = 3 + 2 * 2</code></p>\n"
      ]
    },
    {
      "cell_type": "code",
      "metadata": {
        "colab": {
          "base_uri": "https://localhost:8080/"
        },
        "id": "4b11938f-32e2-433a-825e-881c317301a8",
        "outputId": "c367a4c4-b5bb-4afa-cc1a-4d0986d83028"
      },
      "outputs": [
        {
          "output_type": "execute_result",
          "data": {
            "text/plain": [
              "7"
            ]
          },
          "metadata": {},
          "execution_count": 21
        }
      ],
      "source": [
        "# Write your code below. Don't forget to press Shift+Enter to execute the cell\n",
        "x=3+2*2\n",
        "x"
      ],
      "execution_count": 21
    },
    {
      "cell_type": "markdown",
      "metadata": {
        "id": "979b30d0-75e0-4dc3-b3c8-31d87d007d88"
      },
      "source": [
        "<details><summary>Click here for the solution</summary>\n",
        "\n",
        "```python\n",
        "\n",
        "x = 3 + 2 * 2\n",
        "x\n",
        "# This will print 7\n",
        "\n",
        "```\n",
        "\n",
        "</details>\n"
      ]
    },
    {
      "cell_type": "markdown",
      "metadata": {
        "id": "0a02034b-b513-4e97-81b7-2de21cd4721c"
      },
      "source": [
        "<p>What is the value of <code>y</code> where <code>y = (3 + 2) * 2</code>?</p>\n"
      ]
    },
    {
      "cell_type": "code",
      "metadata": {
        "colab": {
          "base_uri": "https://localhost:8080/"
        },
        "id": "a4c3c3b9-e6f1-4984-9ede-9d8a6d07fa82",
        "outputId": "3b0d885c-9cb5-422a-b58e-257ae1284fd7"
      },
      "outputs": [
        {
          "output_type": "execute_result",
          "data": {
            "text/plain": [
              "10"
            ]
          },
          "metadata": {},
          "execution_count": 22
        }
      ],
      "source": [
        "# Write your code below. Don't forget to press Shift+Enter to execute the cell\n",
        "y=(3+2)*2\n",
        "y"
      ],
      "execution_count": 22
    },
    {
      "cell_type": "markdown",
      "metadata": {
        "id": "4bcf807c-b867-4a77-be73-66a3b81e06da"
      },
      "source": [
        "<details><summary>Click here for the solution</summary>\n",
        "\n",
        "```python\n",
        "\n",
        "y = (3 + 2) * 2\n",
        "y\n",
        "# This will print 10\n",
        "\n",
        "```\n",
        "\n",
        "</details>\n"
      ]
    },
    {
      "cell_type": "markdown",
      "metadata": {
        "id": "36a4d4ca-8f12-4e86-91da-7234c2e9281e"
      },
      "source": [
        "<p>What is the value of <code>z</code> where <code>z = x + y</code>?</p>\n"
      ]
    },
    {
      "cell_type": "code",
      "metadata": {
        "colab": {
          "base_uri": "https://localhost:8080/"
        },
        "id": "5f963ce3-bd63-404b-8a0d-0c7216710819",
        "outputId": "9bdb601e-5649-4432-cf0d-757c417f1fa4"
      },
      "outputs": [
        {
          "output_type": "execute_result",
          "data": {
            "text/plain": [
              "17"
            ]
          },
          "metadata": {},
          "execution_count": 23
        }
      ],
      "source": [
        "# Write your code below. Don't forget to press Shift+Enter to execute the cell\n",
        "z=x+y\n",
        "z"
      ],
      "execution_count": 23
    },
    {
      "cell_type": "markdown",
      "metadata": {
        "id": "f2dfcf5c-41ca-4640-80f9-4b722bc7078c"
      },
      "source": [
        "<details><summary>Click here for the solution</summary>\n",
        "\n",
        "```python\n",
        "z = x + y\n",
        "z\n",
        "# This will print 17\n",
        "\n",
        "```\n",
        "\n",
        "</details>\n"
      ]
    }
  ],
  "metadata": {
    "kernelspec": {
      "display_name": "Python 3 (ipykernel)",
      "language": "python",
      "name": "python3"
    },
    "language_info": {
      "codemirror_mode": {
        "name": "ipython",
        "version": 3
      },
      "file_extension": ".py",
      "mimetype": "text/x-python",
      "name": "python",
      "nbconvert_exporter": "python",
      "pygments_lexer": "ipython3",
      "version": "3.11.7"
    },
    "prev_pub_hash": "cb6de4a8ea0f2d49680e69257ccc5d4e7699b2001c8f948194af176e2c19d23b",
    "colab": {
      "provenance": []
    }
  },
  "nbformat": 4,
  "nbformat_minor": 0
}