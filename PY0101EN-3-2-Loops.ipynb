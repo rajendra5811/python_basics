{
  "cells": [
    {
      "cell_type": "markdown",
      "metadata": {
        "id": "1bc59e92-ddfd-4f71-873f-97258d5568e6"
      },
      "source": [
        "<p style=\"text-align:center\">\n",
        "    <a href=\"https://skills.network\" target=\"_blank\">\n",
        "    <img src=\"https://cf-courses-data.s3.us.cloud-object-storage.appdomain.cloud/assets/logos/SN_web_lightmode.png\" width=\"200\" alt=\"Skills Network Logo\">\n",
        "    </a>\n",
        "</p>\n",
        "\n",
        "\n",
        "# Loops in Python\n",
        "\n",
        "\n",
        "Estimated time needed: **20** minutes\n",
        "    \n",
        "\n",
        "## Objectives\n",
        "\n",
        "After completing this lab you will be able to:\n",
        "\n",
        "* work with the loop statements in Python, including for-loop and while-loop.\n"
      ]
    },
    {
      "cell_type": "markdown",
      "metadata": {
        "id": "f39f6e6f-e1c7-4f8e-bc35-1359b39bf75b"
      },
      "source": [
        "<h1>Loops in Python</h1>\n"
      ]
    },
    {
      "cell_type": "markdown",
      "metadata": {
        "id": "614cf786-8087-4001-ab29-b3cf4d44e167"
      },
      "source": [
        "<p><strong>Welcome!</strong> This notebook will teach you about the loops in the Python Programming Language. By the end of this lab, you'll know how to use the loop statements in Python, including for loop, and while loop.</p>\n"
      ]
    },
    {
      "cell_type": "markdown",
      "metadata": {
        "id": "68019248-0177-44a0-adef-15c61b9ae754"
      },
      "source": [
        "<h2>Table of Contents</h2>\n",
        "<div class=\"alert alert-block alert-info\" style=\"margin-top: 20px\">\n",
        "    <ul>\n",
        "        <li>\n",
        "            <a href=\"#loop\">Loops</a>\n",
        "            <ul>\n",
        "                <li><a href=\"range\">Range</a></li>\n",
        "                <li><a href=\"for\">What is <code>for</code> loop?</a></li>\n",
        "                <li><a href=\"while\">What is <code>while</code> loop?</a></li>\n",
        "            </ul>\n",
        "        </li>\n",
        "        <li>\n",
        "            <a href=\"#quiz\">Quiz on Loops</a>\n",
        "        </li>\n",
        "    </ul>\n",
        "\n",
        "</div>\n",
        "\n",
        "<hr>\n"
      ]
    },
    {
      "cell_type": "markdown",
      "metadata": {
        "id": "76bea01d-e0d3-4dc9-995b-6076cf928df7"
      },
      "source": [
        "<h2 id=\"loop\">Loops</h2>\n"
      ]
    },
    {
      "cell_type": "markdown",
      "metadata": {
        "id": "723cd0a2-baf0-43e1-b74d-fdc05a204886"
      },
      "source": [
        "<h3 id=\"range\">Range</h3>\n"
      ]
    },
    {
      "cell_type": "markdown",
      "metadata": {
        "id": "ede4b7a8-6515-4b71-8480-2f5ac9c9446a"
      },
      "source": [
        "Sometimes, you might want to repeat a given operation many times. Repeated executions like this are performed by <b>loops</b>. We will look at two types of loops, <code>for</code> loops and <code>while</code> loops.\n",
        "\n",
        "Before we discuss loops lets discuss the <code>range</code> object. It is helpful to think of the range object as an ordered list. For now, let's look at the simplest case. If we would like to generate an object that contains elements ordered from 0 to 2 we simply use the following command:\n"
      ]
    },
    {
      "cell_type": "code",
      "metadata": {
        "colab": {
          "base_uri": "https://localhost:8080/"
        },
        "id": "f710a578-1cc6-4569-a095-cc460f3416f4",
        "outputId": "723a7559-bb57-4ae9-94e8-a26419390f44"
      },
      "outputs": [
        {
          "output_type": "execute_result",
          "data": {
            "text/plain": [
              "range(0, 3)"
            ]
          },
          "metadata": {},
          "execution_count": 23
        }
      ],
      "source": [
        "# Use the range\n",
        "\n",
        "range(3)"
      ],
      "execution_count": 23
    },
    {
      "cell_type": "markdown",
      "metadata": {
        "id": "5c1ba925-ee03-4fa7-a8b0-d1e63bb720b3"
      },
      "source": [
        "<img src=\"https://cf-courses-data.s3.us.cloud-object-storage.appdomain.cloud/IBMDeveloperSkillsNetwork-PY0101EN-SkillsNetwork/labs/Module%203/images/range.PNG\" width=\"300\">\n"
      ]
    },
    {
      "cell_type": "markdown",
      "metadata": {
        "id": "6713a7a5-5018-486e-bd84-b3ab1d843a17"
      },
      "source": [
        "**_NOTE: While in Python 2.x it returned a list as seen in video lessons, in 3.x it returns a range object._**\n"
      ]
    },
    {
      "cell_type": "markdown",
      "metadata": {
        "id": "47efdb4f-74d0-4b39-82c9-ca682552b660"
      },
      "source": [
        "<h3 id=\"for\">What is <code>for</code> loop?</h3>\n"
      ]
    },
    {
      "cell_type": "markdown",
      "metadata": {
        "id": "79a50027-5cec-46c2-ba79-66e54ffd37b5"
      },
      "source": [
        "The <code>for</code> loop enables you to execute a code block multiple times. For example, you would use this if you would like to print out every element in a list.    \n",
        "Let's try to use a <code>for</code> loop to print all the years presented in the list <code>dates</code>:\n"
      ]
    },
    {
      "cell_type": "markdown",
      "metadata": {
        "id": "5fc5105c-baf2-4f59-8aec-73eeef424266"
      },
      "source": [
        "This can be done as follows:\n"
      ]
    },
    {
      "cell_type": "code",
      "metadata": {
        "colab": {
          "base_uri": "https://localhost:8080/"
        },
        "id": "6b1d2a9d-ddf2-44cf-941c-bb22054b1706",
        "outputId": "91a97ef5-c958-4bd1-a4c6-827a9dd5ba7b"
      },
      "outputs": [
        {
          "output_type": "stream",
          "name": "stdout",
          "text": [
            "1982\n",
            "1980\n",
            "1973\n"
          ]
        }
      ],
      "source": [
        "# For loop example\n",
        "\n",
        "dates = [1982,1980,1973]\n",
        "N = len(dates)\n",
        "\n",
        "for i in range(N):\n",
        "    print(dates[i])"
      ],
      "execution_count": 24
    },
    {
      "cell_type": "markdown",
      "metadata": {
        "id": "e684e487-02fc-42a5-a410-af1a9913aa89"
      },
      "source": [
        "The code in the indent is executed <code>N</code> times, each time the value of <code>i</code> is increased by 1 for every execution. The statement executed is to <code>print</code> out the value in the list at index <code>i</code> as shown here:\n"
      ]
    },
    {
      "cell_type": "markdown",
      "metadata": {
        "id": "08499665-1dfe-40cd-87de-36dc55241ab6"
      },
      "source": [
        "<img src=\"https://cf-courses-data.s3.us.cloud-object-storage.appdomain.cloud/IBMDeveloperSkillsNetwork-PY0101EN-SkillsNetwork/labs/Module%203/images/LoopsForRange.gif\" width=\"800\">\n"
      ]
    },
    {
      "cell_type": "markdown",
      "metadata": {
        "id": "2a5e53cc-8f6e-4aa9-a5f6-46a2a48e69fc"
      },
      "source": [
        "In this example we can print out a sequence of numbers from 0 to 7:\n"
      ]
    },
    {
      "cell_type": "code",
      "metadata": {
        "colab": {
          "base_uri": "https://localhost:8080/"
        },
        "id": "86787333-0439-4499-b6cc-2a6ed27e480b",
        "outputId": "1be1a7c4-bdc7-4846-e7c2-518b1c26000d"
      },
      "outputs": [
        {
          "output_type": "stream",
          "name": "stdout",
          "text": [
            "0\n",
            "1\n",
            "2\n",
            "3\n",
            "4\n",
            "5\n",
            "6\n",
            "7\n"
          ]
        }
      ],
      "source": [
        "# Example of for loop\n",
        "\n",
        "for i in range(0, 8):\n",
        "    print(i)"
      ],
      "execution_count": 25
    },
    {
      "cell_type": "markdown",
      "metadata": {
        "id": "6381f7ab-d59d-4eb0-ae43-9e31c5c771ea"
      },
      "source": [
        "In Python we can directly access the elements in the list as follows:\n"
      ]
    },
    {
      "cell_type": "code",
      "metadata": {
        "colab": {
          "base_uri": "https://localhost:8080/"
        },
        "id": "31e95712-a8b0-4abd-9d8a-ed4e3a6f0860",
        "outputId": "88b25580-dacc-48c8-e74d-20b07f4b17e8"
      },
      "outputs": [
        {
          "output_type": "stream",
          "name": "stdout",
          "text": [
            "1982\n",
            "1980\n",
            "1973\n"
          ]
        }
      ],
      "source": [
        "# Exmaple of for loop, loop through list\n",
        "\n",
        "for year in dates:\n",
        "    print(year)"
      ],
      "execution_count": 26
    },
    {
      "cell_type": "markdown",
      "metadata": {
        "id": "1dd817a1-e2ae-4bc6-8e19-377184dd7b13"
      },
      "source": [
        "For each iteration, the value of the variable <code>year</code> behaves like the value of <code>dates[i]</code> in the  first example:\n"
      ]
    },
    {
      "cell_type": "markdown",
      "metadata": {
        "id": "55b63ff4-720c-4359-bcf4-79f78fa5f7ff"
      },
      "source": [
        "<img src=\"https://cf-courses-data.s3.us.cloud-object-storage.appdomain.cloud/IBMDeveloperSkillsNetwork-PY0101EN-SkillsNetwork/labs/Module%203/images/LoopsForList.gif\" width=\"800\">\n"
      ]
    },
    {
      "cell_type": "markdown",
      "metadata": {
        "id": "fa48488f-8e72-4c0f-ab30-a7ad3e391785"
      },
      "source": [
        "We can change the elements in a list:\n"
      ]
    },
    {
      "cell_type": "code",
      "metadata": {
        "colab": {
          "base_uri": "https://localhost:8080/"
        },
        "id": "b5236cf9-f1d5-42c5-b7d6-6a0c835e8bad",
        "outputId": "068048f9-efc9-439a-b3ec-9fa0447fd325"
      },
      "outputs": [
        {
          "output_type": "stream",
          "name": "stdout",
          "text": [
            "Before square  0 is red\n",
            "After square  0 is white\n",
            "Before square  1 is yellow\n",
            "After square  1 is white\n",
            "Before square  2 is green\n",
            "After square  2 is white\n",
            "Before square  3 is purple\n",
            "After square  3 is white\n",
            "Before square  4 is blue\n",
            "After square  4 is white\n"
          ]
        }
      ],
      "source": [
        "# Use for loop to change the elements in list\n",
        "\n",
        "squares = ['red', 'yellow', 'green', 'purple', 'blue']\n",
        "\n",
        "for i in range(0, 5):\n",
        "    print(\"Before square \", i, 'is',  squares[i])\n",
        "    squares[i] = 'white'\n",
        "    print(\"After square \", i, 'is',  squares[i])"
      ],
      "execution_count": 27
    },
    {
      "cell_type": "markdown",
      "metadata": {
        "id": "92f7f0c3-4601-401a-ace5-b4ed869d77f8"
      },
      "source": [
        " We can access the index and the elements of a list as follows:\n"
      ]
    },
    {
      "cell_type": "code",
      "metadata": {
        "colab": {
          "base_uri": "https://localhost:8080/"
        },
        "id": "e380c7dc-dfdd-4a06-a84f-ad22972588db",
        "outputId": "b6c27971-a89d-48f8-e0bc-2fc49113755d"
      },
      "outputs": [
        {
          "output_type": "stream",
          "name": "stdout",
          "text": [
            "0 red\n",
            "1 yellow\n",
            "2 green\n",
            "3 purple\n",
            "4 blue\n"
          ]
        }
      ],
      "source": [
        "# Loop through the list and iterate on both index and element value\n",
        "\n",
        "squares=['red', 'yellow', 'green', 'purple', 'blue']\n",
        "\n",
        "for i, square in enumerate(squares):\n",
        "    print(i, square)"
      ],
      "execution_count": 28
    },
    {
      "cell_type": "markdown",
      "metadata": {
        "id": "ed1d1212-45a4-4cae-836a-d1fd52143626"
      },
      "source": [
        "<h3 id=\"while\">What is <code>while</code> loop?</h3>\n"
      ]
    },
    {
      "cell_type": "markdown",
      "metadata": {
        "id": "b4ec6176-0948-446b-aaeb-5e4691c7bc30"
      },
      "source": [
        "As you can see, the <code>for</code> loop is used for a controlled flow of repetition. However, what if we don't know when we want to stop the loop? What if we want to keep executing a code block until a certain condition is met? The <code>while</code> loop exists as a tool for repeated execution based on a condition. The code block will keep being executed until the given logical condition returns a **False** boolean value.\n"
      ]
    },
    {
      "cell_type": "markdown",
      "metadata": {
        "id": "3f2150aa-6860-4275-9c88-65f34c470d29"
      },
      "source": [
        "#### Here's how a while loop works:\n",
        "\n",
        "1. First, you specify a condition that the loop will check before each iteration (repetition) of the code block.\n",
        "2. If the condition is initially true, the code block is executed.\n",
        "3. After executing the code block, the condition is checked again.\n",
        "4. If the condition is still true, the code block is executed again.\n",
        "5. Steps 3 and 4 repeat until the condition becomes false.\n",
        "6. Once the condition becomes false, the loop stops, and the program continues with the next line of code after the loop.\n"
      ]
    },
    {
      "cell_type": "markdown",
      "metadata": {
        "id": "8be5d317-1fe4-4dd0-bdf6-83db4583e23e"
      },
      "source": [
        "**Here's an example of a while loop that prints numbers from 1 to 5:**\n"
      ]
    },
    {
      "cell_type": "code",
      "metadata": {
        "colab": {
          "base_uri": "https://localhost:8080/"
        },
        "id": "0f693efa-7345-4567-b9d9-7b807415f561",
        "outputId": "29b8991a-3ef4-4f55-8708-72063e7a9930"
      },
      "outputs": [
        {
          "output_type": "stream",
          "name": "stdout",
          "text": [
            "1\n",
            "2\n",
            "3\n",
            "4\n",
            "5\n"
          ]
        }
      ],
      "source": [
        "count = 1\n",
        "while count <= 5:\n",
        "    print(count)\n",
        "    count += 1"
      ],
      "execution_count": 29
    },
    {
      "cell_type": "markdown",
      "metadata": {
        "id": "aa8f8b84-f864-4e46-94ba-4a96437a12a3"
      },
      "source": [
        "In this example, the condition **count <= 5** is checked before each iteration. As long as count is less than or equal to 5, the code block inside the loop is executed. After each iteration, the value of count is incremented by 1 using count += 1. Once count reaches 6, the condition becomes false, and the loop stops.\n"
      ]
    },
    {
      "cell_type": "markdown",
      "metadata": {
        "id": "6baa69d2-bdb5-461a-bafe-f8882d8e5e98"
      },
      "source": [
        "Let’s say we would like to iterate through list <code>dates</code> and stop at the year 1973, then print out the number of iterations. This can be done with the following block of code:\n"
      ]
    },
    {
      "cell_type": "code",
      "metadata": {
        "colab": {
          "base_uri": "https://localhost:8080/"
        },
        "id": "f64a8218-32f1-4fe6-9377-2d956902089b",
        "outputId": "b604f3e8-b5e0-4703-fab7-fd0d832e5b88"
      },
      "outputs": [
        {
          "output_type": "stream",
          "name": "stdout",
          "text": [
            "1982\n",
            "1980\n",
            "It took  2 repetitions to get out of loop.\n"
          ]
        }
      ],
      "source": [
        "# While Loop Example\n",
        "\n",
        "dates = [1982, 1980, 1973, 2000]\n",
        "\n",
        "i = 0\n",
        "year = dates[0]\n",
        "\n",
        "while(year != 1973):\n",
        "    print(year)\n",
        "    i = i + 1\n",
        "    year = dates[i]\n",
        "\n",
        "\n",
        "print(\"It took \", i ,\"repetitions to get out of loop.\")"
      ],
      "execution_count": 30
    },
    {
      "cell_type": "markdown",
      "metadata": {
        "id": "2bb922a8-89d7-4407-b815-8b12929c03a4"
      },
      "source": [
        "A while loop iterates merely until the condition in the argument is not  met, as shown in the following figure:\n"
      ]
    },
    {
      "cell_type": "markdown",
      "metadata": {
        "id": "8f741575-6f2d-4386-9cf3-35374360594c"
      },
      "source": [
        "<img src=\"https://cf-courses-data.s3.us.cloud-object-storage.appdomain.cloud/IBMDeveloperSkillsNetwork-PY0101EN-SkillsNetwork/labs/Module%203/images/LoopsWhile.gif\" width=\"650\">\n"
      ]
    },
    {
      "cell_type": "markdown",
      "metadata": {
        "id": "8c088dd1-e339-4f4b-b329-c92bc082245c"
      },
      "source": [
        "\n",
        "**The main difference between a while loop and a for loop in Python is how they control the flow of execution and handle iterations.**\n"
      ]
    },
    {
      "cell_type": "markdown",
      "metadata": {
        "id": "01df67fd-348d-49c5-a407-8fcd1c5ae3b7"
      },
      "source": [
        "### Key point of While Loop:\n",
        "\n",
        "1. A while loop repeatedly executes a block of code as long as a given condition is true.\n",
        "2. It does not have a fixed number of iterations but continues executing until the condition becomes false.\n",
        "3. The condition is checked before each iteration, and if it's false initially, the code block is skipped entirely.\n",
        "4. The condition is typically based on a variable or expression that can change during the execution of the loop.\n",
        "5. It provides more flexibility in terms of controlling the loop's execution based on dynamic conditions.\n"
      ]
    },
    {
      "cell_type": "markdown",
      "metadata": {
        "id": "f64f417c-19bc-4442-891d-a8be12265736"
      },
      "source": [
        "### Key point of For Loop:\n",
        "\n",
        "1. A for loop iterates over a sequence (such as a list, string, or range) or any object that supports iteration.\n",
        "2. It has a predefined number of iterations based on the length of the sequence or the number of items to iterate over.\n",
        "3. It automatically handles the iteration and does not require maintaining a separate variable for tracking the iteration count.\n",
        "4. It simplifies the code by encapsulating the iteration logic within the loop itself.\n",
        "5. It is commonly used when you know the exact number of iterations or need to iterate over each item in a collection.\n"
      ]
    },
    {
      "cell_type": "markdown",
      "metadata": {
        "id": "2230d62a-3f70-4285-b6eb-7c520607c9c5"
      },
      "source": [
        "<hr>\n"
      ]
    },
    {
      "cell_type": "markdown",
      "metadata": {
        "id": "21fe9199-cd7b-4573-b8d3-66b74631f8d9"
      },
      "source": [
        "<h2 id=\"quiz\">Practise Exercises on Loops</h2>\n"
      ]
    },
    {
      "cell_type": "markdown",
      "metadata": {
        "id": "d8a449e0-081e-4aa9-af29-10785a8eff6c"
      },
      "source": [
        "Write a <code>for</code> loop the prints out all the element between <b>-5</b> and <b>5</b> using the range function.\n"
      ]
    },
    {
      "cell_type": "code",
      "metadata": {
        "colab": {
          "base_uri": "https://localhost:8080/"
        },
        "id": "b71fa842-0269-4798-b8d1-88b7148f741f",
        "outputId": "ad6684b5-bc55-4dda-a1bd-5e6a63a914fe"
      },
      "outputs": [
        {
          "output_type": "stream",
          "name": "stdout",
          "text": [
            "-4\n",
            "-3\n",
            "-2\n",
            "-1\n",
            "0\n",
            "1\n",
            "2\n",
            "3\n",
            "4\n"
          ]
        }
      ],
      "source": [
        "# Write your code below and press Shift+Enter to execute\n",
        "for i in range(-4,5):\n",
        " print(i)"
      ],
      "execution_count": 31
    },
    {
      "cell_type": "markdown",
      "metadata": {
        "id": "548ead57-2249-4346-b8c5-36bd3ff1a7eb"
      },
      "source": [
        "<details><summary>Click here for the solution</summary>\n",
        "\n",
        "```python\n",
        "for i in range(-4, 5):\n",
        "    print(i)\n",
        "    \n",
        "```\n",
        "\n",
        "</details>\n"
      ]
    },
    {
      "cell_type": "markdown",
      "metadata": {
        "id": "f0648f96-1a24-43de-a46d-c9a886f85d10"
      },
      "source": [
        "Print the elements of the following list:\n",
        "<code>Genres=[ 'rock', 'R&B', 'Soundtrack', 'R&B', 'soul', 'pop']</code>\n",
        "Make sure you follow Python conventions.\n"
      ]
    },
    {
      "cell_type": "code",
      "metadata": {
        "colab": {
          "base_uri": "https://localhost:8080/"
        },
        "id": "fe608a6f-ef16-490a-9486-08b2346e9ed2",
        "outputId": "a89ad443-a773-4f6b-9e85-0cc49bf7f49b"
      },
      "outputs": [
        {
          "output_type": "stream",
          "name": "stdout",
          "text": [
            "rock\n",
            "R&B\n",
            "Soundtrack\n",
            "R&B\n",
            "soul\n",
            "pop\n"
          ]
        }
      ],
      "source": [
        "# Write your code below and press Shift+Enter to execute\n",
        "Genres = ['rock', 'R&B', 'Soundtrack', 'R&B', 'soul', 'pop']\n",
        "for Genre in Genres:\n",
        "    print(Genre)"
      ],
      "execution_count": 32
    },
    {
      "cell_type": "markdown",
      "metadata": {
        "id": "28e6acbd-f5e3-476d-a717-12e468d01295"
      },
      "source": [
        "<details><summary>Click here for the solution</summary>\n",
        "\n",
        "```python\n",
        "Genres = ['rock', 'R&B', 'Soundtrack', 'R&B', 'soul', 'pop']\n",
        "for Genre in Genres:\n",
        "    print(Genre)\n",
        "    \n",
        "```\n",
        "\n",
        "</details>\n"
      ]
    },
    {
      "cell_type": "markdown",
      "metadata": {
        "id": "9da142b2-667d-4946-b85b-3cd2cd883d5d"
      },
      "source": [
        "<hr>\n"
      ]
    },
    {
      "cell_type": "markdown",
      "metadata": {
        "id": "c3c22e47-6ee3-4e03-8e70-cf08e306274b"
      },
      "source": [
        "Write a for loop that prints out the following list: <code>squares=['red', 'yellow', 'green', 'purple', 'blue']</code>\n"
      ]
    },
    {
      "cell_type": "code",
      "metadata": {
        "colab": {
          "base_uri": "https://localhost:8080/"
        },
        "id": "573edc30-8eb4-400b-9ef5-699db2bb1327",
        "outputId": "30a0eb5f-76e0-4fc6-9a1e-8504dccff08c"
      },
      "outputs": [
        {
          "output_type": "stream",
          "name": "stdout",
          "text": [
            "red\n",
            "yellow\n",
            "green\n",
            "purple\n",
            "blue\n"
          ]
        }
      ],
      "source": [
        "# Write your code below and press Shift+Enter to execute\n",
        "squares=['red', 'yellow', 'green', 'purple', 'blue']\n",
        "for square in squares:\n",
        "    print(square)"
      ],
      "execution_count": 33
    },
    {
      "cell_type": "markdown",
      "metadata": {
        "id": "4a4aae44-dd4e-4b9e-b1d7-ed7b6839d3bc"
      },
      "source": [
        "<details><summary>Click here for the solution</summary>\n",
        "\n",
        "```python\n",
        "squares=['red', 'yellow', 'green', 'purple', 'blue']\n",
        "for square in squares:\n",
        "    print(square)\n",
        "    \n",
        "```\n",
        "\n",
        "</details>\n"
      ]
    },
    {
      "cell_type": "markdown",
      "metadata": {
        "id": "49154a0a-de9f-4336-bed9-ac72080fe03a"
      },
      "source": [
        "<hr>\n"
      ]
    },
    {
      "cell_type": "markdown",
      "metadata": {
        "id": "22c37648-bdae-42fb-8435-35bd185ce5e5"
      },
      "source": [
        "Write a while loop to display the values of the Rating of an album playlist stored in the list <code>PlayListRatings</code>. If the score is less than 6, exit the loop. The list <code>PlayListRatings</code> is given by: <code>PlayListRatings = [10, 9.5, 10, 8, 7.5, 5, 10, 10]</code>\n"
      ]
    },
    {
      "cell_type": "code",
      "metadata": {
        "colab": {
          "base_uri": "https://localhost:8080/"
        },
        "id": "8f0677d8-9112-4341-afcd-420727effe56",
        "outputId": "1c5cc7d3-e6ff-44bc-c96c-769cb1e8bb7d"
      },
      "outputs": [
        {
          "output_type": "stream",
          "name": "stdout",
          "text": [
            "10\n",
            "9.5\n",
            "10\n",
            "8\n",
            "7.5\n"
          ]
        }
      ],
      "source": [
        "# Write your code below and press Shift+Enter to execute\n",
        "PlayListRatings = [10, 9.5, 10, 8, 7.5, 5, 10, 10]\n",
        "i = 0\n",
        "rating = PlayListRatings[0]\n",
        "while(i < len(PlayListRatings) and rating >= 6):\n",
        "    print(rating)\n",
        "    i = i + 1\n",
        "    rating = PlayListRatings[i]"
      ],
      "execution_count": 34
    },
    {
      "cell_type": "markdown",
      "metadata": {
        "id": "6f68bc45-2bae-444b-82ac-6d433519cd49"
      },
      "source": [
        "<details><summary>Click here for the solution</summary>\n",
        "\n",
        "```python\n",
        "PlayListRatings = [10, 9.5, 10, 8, 7.5, 5, 10, 10]\n",
        "i = 0\n",
        "rating = PlayListRatings[0]\n",
        "while(i < len(PlayListRatings) and rating >= 6):\n",
        "    print(rating)\n",
        "    i = i + 1\n",
        "    rating = PlayListRatings[i]    \n",
        "```\n",
        "\n",
        "</details>\n"
      ]
    },
    {
      "cell_type": "markdown",
      "metadata": {
        "id": "5e44c0b8-dff5-4ab7-928a-c899f1503754"
      },
      "source": [
        "Write a while loop to copy the strings <code>'orange'</code> of the list <code>squares</code> to the list <code>new_squares</code>. Stop and exit the loop if the value on the list is not <code>'orange'</code>:\n"
      ]
    },
    {
      "cell_type": "code",
      "metadata": {
        "colab": {
          "base_uri": "https://localhost:8080/"
        },
        "id": "f5de7dc9-10ac-41c1-89bf-57a94070ceb8",
        "outputId": "97382134-f013-4c04-c1bc-f288873afad5"
      },
      "outputs": [
        {
          "output_type": "stream",
          "name": "stdout",
          "text": [
            "['orange', 'orange']\n"
          ]
        }
      ],
      "source": [
        "# Write your code below and press Shift+Enter to execute\n",
        "\n",
        "squares = ['orange', 'orange', 'purple', 'blue ', 'orange']\n",
        "new_squares = []\n",
        "i = 0\n",
        "while(i < len(squares) and squares[i] == 'orange'):\n",
        "    new_squares.append(squares[i])\n",
        "    i = i + 1\n",
        "print (new_squares)\n"
      ],
      "execution_count": 35
    },
    {
      "cell_type": "markdown",
      "metadata": {
        "id": "24fd4725-bbc8-4da4-93d2-77d68f6343be"
      },
      "source": [
        "<details><summary>Click here for the solution</summary>\n",
        "\n",
        "```python\n",
        "squares = ['orange', 'orange', 'purple', 'blue ', 'orange']\n",
        "new_squares = []\n",
        "i = 0\n",
        "while(i < len(squares) and squares[i] == 'orange'):\n",
        "    new_squares.append(squares[i])\n",
        "    i = i + 1\n",
        "print (new_squares)\n",
        "    \n",
        "```\n",
        "\n",
        "</details>\n",
        "\n"
      ]
    },
    {
      "cell_type": "markdown",
      "metadata": {
        "id": "4df186c3-1ddb-40fc-a2a4-8c979c2a060c"
      },
      "source": [
        "### Some real-life problems!\n"
      ]
    },
    {
      "cell_type": "markdown",
      "metadata": {
        "id": "afde4adb-f125-428f-922e-9158cab60bb0"
      },
      "source": [
        "Your little brother has just learned multiplication tables in school. Today he has learned tables of 6 and 7. Help him memorise both the tables by printing them using <code>for</code> loop.\n"
      ]
    },
    {
      "cell_type": "code",
      "metadata": {
        "colab": {
          "base_uri": "https://localhost:8080/"
        },
        "id": "eb5ae970-c447-4467-aa9a-252148e3d342",
        "outputId": "6c4bc652-5f9a-40bd-f8ae-f261825f2129"
      },
      "outputs": [
        {
          "output_type": "stream",
          "name": "stdout",
          "text": [
            "1*6=6\n",
            "2*6=12\n",
            "3*6=18\n",
            "4*6=24\n",
            "5*6=30\n",
            "6*6=36\n",
            "7*6=42\n",
            "8*6=48\n",
            "9*6=54\n",
            "10*6=60\n"
          ]
        }
      ],
      "source": [
        "# Write your code here\n",
        "#for i in range(1,11):\n",
        "  #print(\"i*6=\",i*6) print(\"6*\",i,\"=\",6*i)\n",
        "for i in range(1, 11):\n",
        "   print(\"{}*6={}\".format(i, i*6))"
      ],
      "execution_count": 50
    },
    {
      "cell_type": "markdown",
      "metadata": {
        "id": "51284656-ce30-4387-994d-4f1765906aed"
      },
      "source": [
        "<details><summary>Click here for the hint</summary>\n",
        "\n",
        "Write two for loops. One to print the multiplication table of 6 and the other for 7\n",
        "\n",
        "</details>\n"
      ]
    },
    {
      "cell_type": "markdown",
      "metadata": {
        "id": "b1f5569d-9805-4fae-ab07-7c9a1dd34830"
      },
      "source": [
        "<details><summary>Click here for the solution</summary>\n",
        "\n",
        "```python\n",
        "print(\"Multiplication table of 6:\")\n",
        "for i in range (10):\n",
        "    print(\"6*\",i,\"=\",6*i)\n",
        "print(\"Multiplication table of 7:\")\n",
        "for i in range (10):\n",
        "    print(\"7*\",i,\"=\",7*i)\n",
        "    \n",
        "```\n",
        "\n",
        "</details>\n"
      ]
    },
    {
      "cell_type": "markdown",
      "metadata": {
        "id": "e1d10e4a-bceb-45c0-b7dc-7aa6374b1d5e"
      },
      "source": [
        "<hr>\n"
      ]
    },
    {
      "cell_type": "markdown",
      "metadata": {
        "id": "e14a85b8-0ae8-4266-ac91-b7123e2d6421"
      },
      "source": [
        "The following is a list of animals in a National Zoo.\n",
        "<code>Animals = [\"lion\", \"giraffe\", \"gorilla\", \"parrots\", \"crocodile\",\"deer\", \"swan\"]</code>\n",
        "\n",
        "Your brother needs to write an essay on the animals whose names are made of 7 letters. Help him find those animals through a <code>while</code> loop and create a separate list of such animals.\n"
      ]
    },
    {
      "cell_type": "code",
      "metadata": {
        "colab": {
          "base_uri": "https://localhost:8080/",
          "height": 106
        },
        "id": "ab9c4dd8-bdd3-429f-90cf-6dcbcaedbefb",
        "outputId": "a31884d1-b166-4c34-9dc4-0f1e18e581e6"
      },
      "outputs": [
        {
          "output_type": "error",
          "ename": "SyntaxError",
          "evalue": "invalid syntax. Maybe you meant '==' or ':=' instead of '='? (ipython-input-3826029007.py, line 5)",
          "traceback": [
            "\u001b[0;36m  File \u001b[0;32m\"/tmp/ipython-input-3826029007.py\"\u001b[0;36m, line \u001b[0;32m5\u001b[0m\n\u001b[0;31m    for(i=0;i<len(Animals);i=i+1):\u001b[0m\n\u001b[0m        ^\u001b[0m\n\u001b[0;31mSyntaxError\u001b[0m\u001b[0;31m:\u001b[0m invalid syntax. Maybe you meant '==' or ':=' instead of '='?\n"
          ]
        }
      ],
      "source": [
        "# Write your code here\n",
        "Animals = [\"lion\", \"giraffe\", \"gorilla\", \"parrots\", \"crocodile\",\"deer\", \"swan\"]\n",
        "New =[]\n",
        "\n",
        "for(i=0;i<len(Animals);i=i+1):\n",
        "  if( len(j)==7):\n",
        "      New.append(j)\n",
        "print(New)"
      ],
      "execution_count": 53
    },
    {
      "cell_type": "markdown",
      "metadata": {
        "id": "7e804728-56de-4f26-9f7e-63be54dd52d6"
      },
      "source": [
        "<details><summary>Click here for hint</summary>\n",
        "\n",
        "Use while loop to iterate over the elements of the list. Use if-else statement inside the for loop to check the length of each element and if the length is 7, add the element to a new list.\n",
        "\n",
        "</details>\n"
      ]
    },
    {
      "cell_type": "markdown",
      "metadata": {
        "id": "8b095bd0-7b88-443d-8efa-bb27a98694c0"
      },
      "source": [
        "<details><summary>Click here for the solution</summary>\n",
        "\n",
        "```python\n",
        "\n",
        "Animals = [\"lion\", \"giraffe\", \"gorilla\", \"parrots\", \"crocodile\",\"deer\", \"swan\"]\n",
        "New = []\n",
        "i=0\n",
        "while i<len(Animals):\n",
        "    j=Animals[i]\n",
        "    if(len(j)==7):\n",
        "        New.append(j)\n",
        "    i=i+1\n",
        "print(New)\n",
        "    \n",
        "```\n",
        "\n",
        "</details>\n"
      ]
    },
    {
      "cell_type": "markdown",
      "metadata": {
        "id": "5be324f2-7e30-4af9-b1e9-f51b25ebec4f"
      },
      "source": [
        "<hr>\n",
        "\n",
        "<h3>Congratulations, you have completed lab on loops<h3>\n",
        "<hr>\n"
      ]
    },
    {
      "cell_type": "markdown",
      "metadata": {
        "id": "f6cc0270-a66d-4589-9609-939000455e4e"
      },
      "source": [
        "## Author\n",
        "\n",
        "<a href=\"https://www.linkedin.com/in/joseph-s-50398b136/\" target=\"_blank\">Joseph Santarcangelo</a>\n",
        "\n",
        "\n",
        "## Other contributors\n",
        "\n",
        "<a href=\"www.linkedin.com/in/jiahui-mavis-zhou-a4537814a\">Mavis Zhou</a>\n",
        "\n",
        "\n",
        "<img src=\"https://cf-courses-data.s3.us.cloud-object-storage.appdomain.cloud/IBMDeveloperSkillsNetwork-PY0101EN-SkillsNetwork/SNIBMfooter.png\" alt=\"\" width=\"\" height=\"\">\n"
      ]
    }
  ],
  "metadata": {
    "kernelspec": {
      "display_name": "Python",
      "language": "python",
      "name": "conda-env-python-py"
    },
    "language_info": {
      "name": ""
    },
    "colab": {
      "provenance": []
    }
  },
  "nbformat": 4,
  "nbformat_minor": 0
}